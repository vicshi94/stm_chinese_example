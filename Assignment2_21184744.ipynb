{
 "cells": [
  {
   "cell_type": "markdown",
   "metadata": {},
   "source": [
    "## SOSC5500 - Assignment 2\n",
    "\n",
    "Student Name: Xuanyu SHI\n",
    "\n",
    "Student ID: 21184744"
   ]
  },
  {
   "cell_type": "markdown",
   "metadata": {},
   "source": [
    "### 1. Setup & EDA"
   ]
  },
  {
   "cell_type": "code",
   "execution_count": 38,
   "metadata": {},
   "outputs": [],
   "source": [
    "import pandas as pd\n",
    "import numpy as np\n",
    "import json\n",
    "import re\n",
    "import matplotlib.pyplot as plt\n",
    "import warnings\n",
    "\n",
    "warnings.filterwarnings(\"ignore\")"
   ]
  },
  {
   "cell_type": "markdown",
   "metadata": {},
   "source": [
    "##### Data Loading\n",
    "\n",
    "The first step involves loading the datasets. I focus only on essential columns required for text analysis (`target`,`ids`, and `text`), as documented in the original dataset repository.\n",
    "\n",
    "**Data Attributes:**\n",
    "1. **target**: the polarity of the tweet (0 = negative, 2 = neutral, 4 = positive)\n",
    "2. **ids**: The id of the tweet ( 2087)\n",
    "3. **date**: the date of the tweet (Sat May 16 23:58:44 UTC 2009)\n",
    "4. **flag**: The query (lyx). If there is no query, then this value is NO_QUERY.\n",
    "5. **user**: the user that tweeted (robotickilldozr)\n",
    "6. **text**: the text of the tweet (Lyx is cool)"
   ]
  },
  {
   "cell_type": "code",
   "execution_count": 2,
   "metadata": {},
   "outputs": [],
   "source": [
    "# Load the raw corpus\n",
    "raw_corpus = pd.read_csv('./data/training data.csv', names=['target','ids', 'date', 'flags', 'user', 'text'], encoding='latin-1')\n",
    "raw_corpus = raw_corpus[['target','ids', 'text']]\n",
    "\n",
    "# Load the test corpus\n",
    "test_corpus = pd.read_csv('./data/test data.csv', names=['target','ids', 'date', 'flags', 'user', 'text'], encoding='latin-1')\n",
    "test_corpus = test_corpus[['target','ids', 'text']]"
   ]
  },
  {
   "cell_type": "markdown",
   "metadata": {},
   "source": [
    "##### Data Overview\n",
    "I provide a preliminary overview of both datasets to understand their size and structure:"
   ]
  },
  {
   "cell_type": "code",
   "execution_count": 3,
   "metadata": {},
   "outputs": [
    {
     "name": "stdout",
     "output_type": "stream",
     "text": [
      "Numer of rows in the corpus: 1280023\n"
     ]
    },
    {
     "data": {
      "text/html": [
       "<div>\n",
       "<style scoped>\n",
       "    .dataframe tbody tr th:only-of-type {\n",
       "        vertical-align: middle;\n",
       "    }\n",
       "\n",
       "    .dataframe tbody tr th {\n",
       "        vertical-align: top;\n",
       "    }\n",
       "\n",
       "    .dataframe thead th {\n",
       "        text-align: right;\n",
       "    }\n",
       "</style>\n",
       "<table border=\"1\" class=\"dataframe\">\n",
       "  <thead>\n",
       "    <tr style=\"text-align: right;\">\n",
       "      <th></th>\n",
       "      <th>target</th>\n",
       "      <th>ids</th>\n",
       "      <th>text</th>\n",
       "    </tr>\n",
       "  </thead>\n",
       "  <tbody>\n",
       "    <tr>\n",
       "      <th>0</th>\n",
       "      <td>0</td>\n",
       "      <td>1467810369</td>\n",
       "      <td>@switchfoot http://twitpic.com/2y1zl - Awww, t...</td>\n",
       "    </tr>\n",
       "    <tr>\n",
       "      <th>1</th>\n",
       "      <td>0</td>\n",
       "      <td>1467810672</td>\n",
       "      <td>is upset that he can't update his Facebook by ...</td>\n",
       "    </tr>\n",
       "    <tr>\n",
       "      <th>2</th>\n",
       "      <td>0</td>\n",
       "      <td>1467810917</td>\n",
       "      <td>@Kenichan I dived many times for the ball. Man...</td>\n",
       "    </tr>\n",
       "    <tr>\n",
       "      <th>3</th>\n",
       "      <td>0</td>\n",
       "      <td>1467811193</td>\n",
       "      <td>@nationwideclass no, it's not behaving at all....</td>\n",
       "    </tr>\n",
       "    <tr>\n",
       "      <th>4</th>\n",
       "      <td>0</td>\n",
       "      <td>1467811372</td>\n",
       "      <td>@Kwesidei not the whole crew</td>\n",
       "    </tr>\n",
       "  </tbody>\n",
       "</table>\n",
       "</div>"
      ],
      "text/plain": [
       "   target         ids                                               text\n",
       "0       0  1467810369  @switchfoot http://twitpic.com/2y1zl - Awww, t...\n",
       "1       0  1467810672  is upset that he can't update his Facebook by ...\n",
       "2       0  1467810917  @Kenichan I dived many times for the ball. Man...\n",
       "3       0  1467811193  @nationwideclass no, it's not behaving at all....\n",
       "4       0  1467811372                      @Kwesidei not the whole crew "
      ]
     },
     "execution_count": 3,
     "metadata": {},
     "output_type": "execute_result"
    }
   ],
   "source": [
    "# Overview of the corpus\n",
    "print(\"Numer of rows in the corpus:\", len(raw_corpus))\n",
    "raw_corpus.head()"
   ]
  },
  {
   "cell_type": "code",
   "execution_count": 4,
   "metadata": {},
   "outputs": [
    {
     "name": "stdout",
     "output_type": "stream",
     "text": [
      "Number of rows in the test corpus: 319977\n"
     ]
    },
    {
     "data": {
      "text/html": [
       "<div>\n",
       "<style scoped>\n",
       "    .dataframe tbody tr th:only-of-type {\n",
       "        vertical-align: middle;\n",
       "    }\n",
       "\n",
       "    .dataframe tbody tr th {\n",
       "        vertical-align: top;\n",
       "    }\n",
       "\n",
       "    .dataframe thead th {\n",
       "        text-align: right;\n",
       "    }\n",
       "</style>\n",
       "<table border=\"1\" class=\"dataframe\">\n",
       "  <thead>\n",
       "    <tr style=\"text-align: right;\">\n",
       "      <th></th>\n",
       "      <th>target</th>\n",
       "      <th>ids</th>\n",
       "      <th>text</th>\n",
       "    </tr>\n",
       "  </thead>\n",
       "  <tbody>\n",
       "    <tr>\n",
       "      <th>0</th>\n",
       "      <td>0</td>\n",
       "      <td>1467811184</td>\n",
       "      <td>my whole body feels itchy and like its on fire</td>\n",
       "    </tr>\n",
       "    <tr>\n",
       "      <th>1</th>\n",
       "      <td>0</td>\n",
       "      <td>1467811592</td>\n",
       "      <td>Need a hug</td>\n",
       "    </tr>\n",
       "    <tr>\n",
       "      <th>2</th>\n",
       "      <td>0</td>\n",
       "      <td>1467812025</td>\n",
       "      <td>@twittera que me muera ?</td>\n",
       "    </tr>\n",
       "    <tr>\n",
       "      <th>3</th>\n",
       "      <td>0</td>\n",
       "      <td>1467813782</td>\n",
       "      <td>@FakerPattyPattz Oh dear. Were you drinking ou...</td>\n",
       "    </tr>\n",
       "    <tr>\n",
       "      <th>4</th>\n",
       "      <td>0</td>\n",
       "      <td>1467813985</td>\n",
       "      <td>@alydesigns i was out most of the day so didn'...</td>\n",
       "    </tr>\n",
       "  </tbody>\n",
       "</table>\n",
       "</div>"
      ],
      "text/plain": [
       "   target         ids                                               text\n",
       "0       0  1467811184    my whole body feels itchy and like its on fire \n",
       "1       0  1467811592                                        Need a hug \n",
       "2       0  1467812025                          @twittera que me muera ? \n",
       "3       0  1467813782  @FakerPattyPattz Oh dear. Were you drinking ou...\n",
       "4       0  1467813985  @alydesigns i was out most of the day so didn'..."
      ]
     },
     "execution_count": 4,
     "metadata": {},
     "output_type": "execute_result"
    }
   ],
   "source": [
    "print(\"Number of rows in the test corpus:\", len(test_corpus))\n",
    "test_corpus.head()"
   ]
  },
  {
   "cell_type": "markdown",
   "metadata": {},
   "source": [
    "### 2. Data Preprocessing\n",
    "\n",
    "I will follow this pipeline to conduct the text preprocessing:\n",
    "\n",
    "$$\\text{Raw corpus} \\rightarrow \\text{Text Cleaning} \\rightarrow \\text{Tokenization} \\rightarrow \\text{Removing Stopwords} \\rightarrow \\text{Stemming}$$"
   ]
  },
  {
   "cell_type": "code",
   "execution_count": null,
   "metadata": {},
   "outputs": [
    {
     "name": "stderr",
     "output_type": "stream",
     "text": [
      "[nltk_data] Downloading package wordnet to /Users/xuanyu/nltk_data...\n",
      "[nltk_data]   Package wordnet is already up-to-date!\n",
      "[nltk_data] Downloading package omw-1.4 to /Users/xuanyu/nltk_data...\n",
      "[nltk_data]   Package omw-1.4 is already up-to-date!\n"
     ]
    }
   ],
   "source": [
    "# Setup\n",
    "import string\n",
    "import nltk\n",
    "import pickle\n",
    "from nltk.tokenize import TweetTokenizer\n",
    "from nltk.stem import WordNetLemmatizer\n",
    "from sklearn.feature_extraction.text import TfidfVectorizer\n",
    "from gensim.models import Word2Vec\n",
    "\n",
    "nltk.download('wordnet')\n",
    "nltk.download('omw-1.4')\n",
    "\n",
    "# Load stopwords dictionary:\n",
    "# From: https://countwordsfree.com/stopwords\n",
    "with open('./dict/stop_words_english.json') as f:\n",
    "    stopwords_dict = json.load(f)\n",
    "stopwords_dict = set(stopwords_dict)\n",
    "# Modify the stopwords dictionary\n",
    "custom_stopwords = {'via'}\n",
    "stopwords_dict = list(stopwords_dict.union(custom_stopwords))\n",
    "\n",
    "# Load Twitter Slang dictionary\n",
    "# Self-made dictionary for Twitter slang\n",
    "with open('./dict/tweet_text_abbr.json') as f:\n",
    "    twitter_slang = json.load(f)    "
   ]
  },
  {
   "cell_type": "markdown",
   "metadata": {},
   "source": [
    "##### Step 1: Checking for Special Text Elements\n",
    "We first verify the presence of retweets, emoticons, and emojis in tweets to adapt preprocessing methods accordingly.\n",
    "- Retweets: No retweets found in the dataset.\n",
    "- Emoticons: Emoticons found frequently in tweets; converted into corresponding words before punctuation removal.\n",
    "- Emojis: No common emojis detected."
   ]
  },
  {
   "cell_type": "code",
   "execution_count": 6,
   "metadata": {},
   "outputs": [
    {
     "name": "stdout",
     "output_type": "stream",
     "text": [
      "There are no retweets in the raw corpus\n"
     ]
    }
   ],
   "source": [
    "# Check for retweets\n",
    "if 'RT' in raw_corpus['text'].values:\n",
    "    print(\"There are retweets in the raw corpus\")\n",
    "else:\n",
    "    print(\"There are no retweets in the raw corpus\")"
   ]
  },
  {
   "cell_type": "code",
   "execution_count": 7,
   "metadata": {},
   "outputs": [
    {
     "name": "stdout",
     "output_type": "stream",
     "text": [
      "There are 222 tweets containing the emoticon :*.\n",
      "There are 65 tweets containing the emoticon :-*.\n",
      "There are 160 tweets containing the emoticon :x.\n",
      "There are 4 tweets containing the emoticon :).\n",
      "There are 2 tweets containing the emoticon :)).\n",
      "There are 1 tweets containing the emoticon :))).\n",
      "There are 1 tweets containing the emoticon :)))).\n",
      "There are 76 tweets containing the emoticon :o).\n",
      "There are 809 tweets containing the emoticon :].\n",
      "There are 3383 tweets containing the emoticon :3.\n",
      "There are 379 tweets containing the emoticon =].\n",
      "There are 244 tweets containing the emoticon 8).\n",
      "There are 38 tweets containing the emoticon :}.\n",
      "There are 23 tweets containing the emoticon :^).\n",
      "There are 1 tweets containing the emoticon |;-).\n",
      "There are 168 tweets containing the emoticon :').\n",
      "There are 84 tweets containing the emoticon \\o/.\n",
      "There are 414 tweets containing the emoticon :-D.\n",
      "There are 90 tweets containing the emoticon :D.\n",
      "There are 7 tweets containing the emoticon 8-D.\n",
      "There are 342 tweets containing the emoticon 8D.\n",
      "There are 9 tweets containing the emoticon x-D.\n",
      "There are 4194 tweets containing the emoticon xD.\n",
      "There are 9 tweets containing the emoticon X-D.\n",
      "There are 4194 tweets containing the emoticon XD.\n",
      "There are 1 tweets containing the emoticon =-D.\n",
      "There are 701 tweets containing the emoticon =D.\n",
      "There are 38 tweets containing the emoticon =3.\n",
      "There are 4 tweets containing the emoticon :(.\n",
      "There are 4 tweets containing the emoticon :((.\n",
      "There are 2 tweets containing the emoticon :(((.\n",
      "There are 2 tweets containing the emoticon :((((.\n",
      "There are 2 tweets containing the emoticon :-c.\n",
      "There are 104 tweets containing the emoticon :c.\n",
      "There are 9 tweets containing the emoticon :-[.\n",
      "There are 168 tweets containing the emoticon :[.\n",
      "There are 14 tweets containing the emoticon :{.\n",
      "There are 346 tweets containing the emoticon :@.\n",
      "There are 83 tweets containing the emoticon :'-(.\n",
      "There are 1123 tweets containing the emoticon :'(.\n",
      "There are 2003 tweets containing the emoticon D:.\n",
      "There are 456 tweets containing the emoticon D8.\n",
      "There are 470 tweets containing the emoticon D;.\n",
      "There are 178 tweets containing the emoticon D=.\n",
      "There are 801 tweets containing the emoticon DX.\n",
      "There are 11 tweets containing the emoticon v.v.\n",
      "There are 1310 tweets containing the emoticon :|.\n",
      "There are 95 tweets containing the emoticon :-O.\n",
      "There are 95 tweets containing the emoticon :-o.\n",
      "There are 1801 tweets containing the emoticon :O.\n",
      "There are 325 tweets containing the emoticon o_O.\n",
      "There are 38 tweets containing the emoticon o_0.\n",
      "There are 295 tweets containing the emoticon o.O.\n",
      "There are 354 tweets containing the emoticon o-o.\n",
      "There are 23 tweets containing the emoticon 8-0.\n",
      "There are 1 tweets containing the emoticon |-O.\n",
      "There are 885 tweets containing the emoticon ;-).\n",
      "There are 6005 tweets containing the emoticon ;).\n",
      "There are 9 tweets containing the emoticon *-).\n",
      "There are 60 tweets containing the emoticon *).\n",
      "There are 4 tweets containing the emoticon ;-].\n",
      "There are 135 tweets containing the emoticon ;].\n",
      "There are 1986 tweets containing the emoticon ;D.\n",
      "There are 1 tweets containing the emoticon :-,.\n",
      "There are 313 tweets containing the emoticon :-P.\n",
      "There are 1374 tweets containing the emoticon :P.\n",
      "There are 19 tweets containing the emoticon X-P.\n",
      "There are 19 tweets containing the emoticon x-p.\n",
      "There are 10046 tweets containing the emoticon xp.\n",
      "There are 10046 tweets containing the emoticon XP.\n",
      "There are 313 tweets containing the emoticon :-p.\n",
      "There are 1374 tweets containing the emoticon :p.\n",
      "There are 460 tweets containing the emoticon =p.\n",
      "There are 14 tweets containing the emoticon :-b.\n",
      "There are 125 tweets containing the emoticon :b.\n",
      "There are 48 tweets containing the emoticon :-&.\n",
      "There are 329 tweets containing the emoticon :-/.\n",
      "There are 1 tweets containing the emoticon :-..\n",
      "There are 58295 tweets containing the emoticon :/.\n",
      "There are 318 tweets containing the emoticon :\\.\n",
      "There are 410 tweets containing the emoticon =/.\n",
      "There are 83 tweets containing the emoticon =\\.\n",
      "There are 666 tweets containing the emoticon :L.\n",
      "There are 46 tweets containing the emoticon =L.\n",
      "There are 1451 tweets containing the emoticon :S.\n",
      "There are 58 tweets containing the emoticon :-|.\n",
      "There are 14 tweets containing the emoticon :-X.\n",
      "There are 160 tweets containing the emoticon :X.\n",
      "There are 2 tweets containing the emoticon :-#.\n",
      "There are 3 tweets containing the emoticon :#.\n",
      "There are 241 tweets containing the emoticon 0:3.\n",
      "There are 1 tweets containing the emoticon o/\\o.\n",
      "There are 10 tweets containing the emoticon ^5.\n",
      "There are 21 tweets containing the emoticon *:.\n",
      "There are 157 tweets containing the emoticon x:.\n",
      "There are 19 tweets containing the emoticon (-:.\n",
      "There are 1591 tweets containing the emoticon (:.\n",
      "There are 15 tweets containing the emoticon ((:.\n",
      "There are 6 tweets containing the emoticon (((:.\n",
      "There are 2 tweets containing the emoticon ((((:.\n",
      "There are 1 tweets containing the emoticon (((((:.\n",
      "There are 1 tweets containing the emoticon ((((((:.\n",
      "There are 60 tweets containing the emoticon [:.\n",
      "There are 9 tweets containing the emoticon [=.\n",
      "There are 45 tweets containing the emoticon (=.\n",
      "There are 4 tweets containing the emoticon {:.\n",
      "There are 1 tweets containing the emoticon (':.\n",
      "There are 10 tweets containing the emoticon )-:.\n",
      "There are 338 tweets containing the emoticon ):.\n",
      "There are 5 tweets containing the emoticon )):.\n",
      "There are 2 tweets containing the emoticon ))):.\n",
      "There are 2 tweets containing the emoticon )))):.\n",
      "There are 1 tweets containing the emoticon ))))):.\n",
      "There are 34 tweets containing the emoticon ]:.\n",
      "There are 4 tweets containing the emoticon }:.\n",
      "There are 17 tweets containing the emoticon @:.\n",
      "There are 4 tweets containing the emoticon )':.\n",
      "There are 40 tweets containing the emoticon |:.\n",
      "There are 2 tweets containing the emoticon O-:.\n",
      "There are 2 tweets containing the emoticon o-:.\n",
      "There are 1397 tweets containing the emoticon O:.\n",
      "There are 1 tweets containing the emoticon #:.\n",
      "There are 414 tweets containing the emoticon :-d.\n",
      "There are 90 tweets containing the emoticon :d.\n",
      "There are 7 tweets containing the emoticon 8-d.\n",
      "There are 342 tweets containing the emoticon 8d.\n",
      "There are 9 tweets containing the emoticon x-d.\n",
      "There are 4194 tweets containing the emoticon xd.\n",
      "There are 1 tweets containing the emoticon =-d.\n",
      "There are 701 tweets containing the emoticon =d.\n",
      "There are 2003 tweets containing the emoticon d:.\n",
      "There are 456 tweets containing the emoticon d8.\n",
      "There are 470 tweets containing the emoticon d;.\n",
      "There are 178 tweets containing the emoticon d=.\n",
      "There are 801 tweets containing the emoticon dx.\n",
      "There are 1801 tweets containing the emoticon :o.\n",
      "There are 325 tweets containing the emoticon o_o.\n",
      "There are 295 tweets containing the emoticon o.o.\n",
      "There are 1 tweets containing the emoticon |-o.\n",
      "There are 1986 tweets containing the emoticon ;d.\n",
      "There are 666 tweets containing the emoticon :l.\n",
      "There are 46 tweets containing the emoticon =l.\n",
      "There are 1451 tweets containing the emoticon :s.\n",
      "There are 14 tweets containing the emoticon :-x.\n",
      "There are 1397 tweets containing the emoticon o:.\n"
     ]
    }
   ],
   "source": [
    "# Load emoticon dictionary\n",
    "with open('./dict/emoticon_dict.json') as f:\n",
    "    emoticons = json.load(f)\n",
    "\n",
    "# Check for emoticons\n",
    "for emoticon in emoticons:\n",
    "    # Escape regex special characters in the emoticon so that they are matched literally (\":*\" vs. \"\\:\\*\").\n",
    "    pattern = re.escape(emoticon)\n",
    "    # Use the escaped pattern in str.contains (with regex=True, which is the default)\n",
    "    count = len(raw_corpus[raw_corpus['text'].str.contains(pattern, na=False, flags=re.IGNORECASE, regex=True)])\n",
    "    if count > 0:\n",
    "        print(f\"There are {count} tweets containing the emoticon {emoticon}.\")"
   ]
  },
  {
   "cell_type": "code",
   "execution_count": 8,
   "metadata": {},
   "outputs": [
    {
     "name": "stdout",
     "output_type": "stream",
     "text": [
      "😊 not found in text\n",
      "😂 not found in text\n",
      "😢 not found in text\n",
      "😡 not found in text\n",
      "😍 not found in text\n",
      "😱 not found in text\n",
      "😎 not found in text\n",
      "🤔 not found in text\n",
      "🙁 not found in text\n",
      "😜 not found in text\n"
     ]
    }
   ],
   "source": [
    "# Check for common emojis\n",
    "emojis = {\n",
    "    '😊': 'happy',\n",
    "    '😂': 'laughing',\n",
    "    '😢': 'sad',\n",
    "    '😡': 'angry',\n",
    "    '😍': 'love',\n",
    "    '😱': 'surprised',\n",
    "    '😎': 'cool',\n",
    "    '🤔': 'thinking',\n",
    "    '🙁': 'sad',\n",
    "    '😜': 'playful'\n",
    "}\n",
    "for emoji in emojis.keys():\n",
    "    # check if emoji is in the text\n",
    "    if emoji in raw_corpus['text'].values:\n",
    "        # print the text containing the emoji\n",
    "        print(raw_corpus[raw_corpus['text'].str.contains(emoji, na=False)]['text'])\n",
    "    else:\n",
    "        print(f\"{emoji} not found in text\")"
   ]
  },
  {
   "cell_type": "markdown",
   "metadata": {},
   "source": [
    "##### Step 2: Text Cleaning and Preprocessing\n",
    "\n",
    "The following steps are executed:\n",
    "- Remove URLs, user mentions, and hashtags.\n",
    "- Replace emoticons with corresponding words.\n",
    "- Convert text to lowercase.\n",
    "- Reduce character lengthening (e.g., \"haaaappy\" → \"happy\").\n",
    "- Replace Twitter slang using a custom dictionary.\n",
    "- Remove punctuation and numerical characters.\n",
    "- Tokenize text using `TweetTokenizer`.\n",
    "- Remove stopwords using a customized stopword list.\n",
    "- Lemmatize tokens using `WordNetLemmatizer`.\n",
    "\n",
    "After preprocessing, the cleaned text is then saved for further use.\n",
    "\n",
    "**Why use Lemmatize or Why not Stemming**\n",
    "\n",
    "Though the preprocessing code also includes stemming, it is currently commented out as lemmatization is preferred for this analysis.\n",
    "Lemmatization was chosen over stemming because it preserves semantic meaning by converting words into their root forms based on vocabulary and morphological analysis, leading to better interpretability and potentially improved performance in sentiment analysis. Lemmatization is particularly advantageous for tasks that demand high accuracy and context awareness, such as sentiment analysis, as it uses dictionaries and morphological analysis to ensure words remain semantically meaningful. In contrast, stemming, which is faster but less accurate, uses simpler, rule-based algorithms and may produce stems that are not valid words. \n",
    "\n",
    "\n",
    "|         **Aspect**        |                                      **Lemmatization**                                     |                                **Stemming**                               |\n",
    "|:-------------------------:|:------------------------------------------------------------------------------------------:|:-------------------------------------------------------------------------:|\n",
    "|       **Definition**      |                  Converts words to their base or dictionary form (lemma).                  |  Reduces words to their root form (stem), which may not be a valid word.  |\n",
    "|       **Complexity**      |                              Higher complexity, context-aware.                             |                    Lower complexity, context-agnostic.                    |\n",
    "|       **Algorithms**      |                        Uses dictionaries and morphological analysis.                       | Uses rule-based algorithms like Porter, Snowball, and Lancaster Stemmers. |\n",
    "|        **Accuracy**       |                        Produces more accurate and meaningful words.                        |              Less accurate, may produce non-meaningful stems.             |\n",
    "|     **Output Example**    |                            \"Running\" → \"run\", \"Better\" → \"good\".                           |              \"Running\" → \"run\" or \"runn\", \"Better\" → \"bett\".              |\n",
    "|         **Speed**         |                           Slower due to more complex processing.                           |                        Faster due to simpler rules.                       |\n",
    "| **Use in Search Engines** |                    Better search results through understanding context.                    |                      Useful for quick search indexing                     |\n",
    "|     **Text Analysis**     | Essential for tasks needing accurate word forms (e.g., sentiment analysis, topic modeling) |    Used for initial stages of preprocessing to reduce word variability    |\n",
    "|  **Machine Translation**  |                    Helps in producing grammatically correct translations                   |                  Less common due to potential inaccuracy                  |\n",
    "| **Information Retrieval** |                         Suitable for detailed and precise analysis                         |                  Useful for reducing data dimensionality                  |\n",
    "\n",
    "[Compare Stemming vs. Lemmatization](https://www.geeksforgeeks.org/lemmatization-vs-stemming-a-deep-dive-into-nlps-text-normalization-techniques/#lemmatization-vs-stemming-key-differences)"
   ]
  },
  {
   "cell_type": "code",
   "execution_count": 9,
   "metadata": {},
   "outputs": [],
   "source": [
    "## --- Text Preprocessing---\n",
    "def reduce_lengthening(word):\n",
    "    \"\"\"\n",
    "    Reduce lengthening of words to a maximum of 2 characters.\n",
    "    For example, \"haaaappy\" will be reduced to \"happy\".\n",
    "    \"\"\"\n",
    "    pattern = re.compile(r\"(.)\\1{2,}\", re.DOTALL)\n",
    "    return pattern.sub(r\"\\1\\1\", word)\n",
    "\n",
    "def clean_text(text):\n",
    "    \"\"\"\n",
    "    1. Clean the text by removing unwanted characters, URLs, user mentions, hashtags,\n",
    "    and replacing emoticons with their corresponding words.\n",
    "    2. Tokenize the text and remove stopwords.\n",
    "    3. Replace Twitter slang with their corresponding words.\n",
    "    4. Stemmize and lemmatize the words.\n",
    "    5. Return the cleaned text.\n",
    "    \"\"\"\n",
    "    # Remove URLs\n",
    "    text = re.sub(r'http\\S+|www\\S+|https\\S+', '', text, flags=re.MULTILINE)\n",
    "    # Remove user mentions\n",
    "    text = re.sub(r'@\\w+', '', text)\n",
    "    # Remove hashtags\n",
    "    text = re.sub(r'#', '', text)\n",
    "\n",
    "    # Replace emoticons with their corresponding words\n",
    "    for emoticon, replacement in emoticons.items():\n",
    "        # Replace the emoticon with its corresponding word in the 'text' column\n",
    "        text = re.sub(re.escape(emoticon), replacement, text, flags=re.IGNORECASE)\n",
    "\n",
    "    # Lowercase the text (This must be done after replacing emoticons)\n",
    "    text = text.lower()\n",
    "\n",
    "    # Reduce lengthening of words\n",
    "    text = reduce_lengthening(text)\n",
    "\n",
    "    # Replace Twitter slang with their corresponding words\n",
    "    for slang, replacement in twitter_slang.items():\n",
    "        # Replace the slang with its corresponding word in the 'text' column\n",
    "        text = re.sub(r'\\b' + re.escape(slang) + r'\\b', replacement, text, flags=re.IGNORECASE)\n",
    "    \n",
    "    # Remove punctuation\n",
    "    text = text.translate(str.maketrans('', '', string.punctuation))\n",
    "\n",
    "    # Remove numbers\n",
    "    text = re.sub(r'\\d+', '', text)\n",
    "\n",
    "    # Extra white space removal\n",
    "    text = re.sub(r'\\s+', ' ', text).strip()\n",
    "    \n",
    "    # Tokenize the text\n",
    "    tokens = TweetTokenizer().tokenize(text)\n",
    "\n",
    "    # Remove stopwords\n",
    "    tokens = [word for word in tokens if word not in stopwords_dict]\n",
    "\n",
    "    # Stemmize the words ---> Not used in this case\n",
    "    #stemmer = nltk.stem.SnowballStemmer('english')\n",
    "    #tokens = [stemmer.stem(word) for word in tokens]\n",
    "\n",
    "    # Lemmatize the words\n",
    "    lemmatizer = WordNetLemmatizer()\n",
    "    tokens = [lemmatizer.lemmatize(word) for word in tokens]\n",
    "    \n",
    "    return ' '.join(tokens)"
   ]
  },
  {
   "cell_type": "code",
   "execution_count": 10,
   "metadata": {},
   "outputs": [],
   "source": [
    "raw_corpus['cleaned_text'] = raw_corpus['text'].apply(clean_text)\n",
    "# save the cleaned corpus\n",
    "raw_corpus.to_csv('./data/cleaned_training_data.csv', index=False)\n",
    "\n",
    "test_corpus['cleaned_text'] = test_corpus['text'].apply(clean_text)\n",
    "# save the cleaned test corpus\n",
    "test_corpus.to_csv('./data/cleaned_test_data.csv', index=False)"
   ]
  },
  {
   "cell_type": "markdown",
   "metadata": {},
   "source": [
    "##### Step 3: Document-Term Matrix (DTM) Creation\n",
    "\n",
    "A TF-IDF vectorization is performed to create the Document-Term Matrix:\n",
    "\n",
    "- Parameters: max document frequency 80%, min document frequency 0.01%, stopwords removed, and unigrams/bigrams considered.\n",
    "\n",
    "The resulting DTM is saved for training and testing datasets."
   ]
  },
  {
   "cell_type": "code",
   "execution_count": 11,
   "metadata": {},
   "outputs": [],
   "source": [
    "def dtm_vectorizer(df, text_column = 'cleaned_text'):\n",
    "    \"\"\"\"\n",
    "    Create a Document-Term Matrix (DTM) using TF-IDF vectorization.\n",
    "    \"\"\"\n",
    "    vectorizer = TfidfVectorizer(\n",
    "        max_df=0.8, # 80% of the corpus\n",
    "        min_df=0.0001, # 0.01% of the corpus\n",
    "        stop_words='english',\n",
    "        ngram_range=(1, 2),\n",
    "    )\n",
    "    dtm = vectorizer.fit_transform(df[text_column])\n",
    "    return dtm, vectorizer"
   ]
  },
  {
   "cell_type": "code",
   "execution_count": 12,
   "metadata": {},
   "outputs": [],
   "source": [
    "# Create the Document-Term Matrix\n",
    "dtm, vectorizer = dtm_vectorizer(raw_corpus)\n",
    "# Save the Document-Term Matrix and the vectorizer\n",
    "with open('./pickle/dtm_train.pkl', 'wb') as f:\n",
    "    pickle.dump(dtm, f)\n",
    "with open('./pickle/vectorizer_train.pkl', 'wb') as f:\n",
    "    pickle.dump(vectorizer, f)\n",
    "\n",
    "# Create the Document-Term Matrix for the test corpus\n",
    "dtm_test = vectorizer.transform(test_corpus['cleaned_text'])\n",
    "# Save the Document-Term Matrix and the vectorizer\n",
    "with open('./pickle/dtm_test.pkl', 'wb') as f:\n",
    "    pickle.dump(dtm_test, f)"
   ]
  },
  {
   "cell_type": "markdown",
   "metadata": {},
   "source": [
    "##### Step 4: Word Embedding Representation\n",
    "\n",
    "- Word2Vec embeddings trained on tokenized tweets.\n",
    "\n",
    "- Tweet-level embeddings obtained by averaging word vectors.\n",
    "\n",
    "- Embedding size: 300; window size: 10; minimum word frequency: 100.\n",
    "\n",
    "- A separate transformation function is used for generating embeddings for the test dataset using the trained model, ensuring consistency across datasets.\n",
    "\n",
    "Embeddings and the Word2Vec models are saved for both training and test datasets, facilitating downstream analysis."
   ]
  },
  {
   "cell_type": "code",
   "execution_count": 13,
   "metadata": {},
   "outputs": [],
   "source": [
    "def word_embeddings(df, text_column='cleaned_text', embedding_size=300, window=10, min_count=100, workers=4):\n",
    "    \"\"\"\n",
    "    Trains a Word2Vec model on the text data and computes tweet-level embeddings by averaging\n",
    "    the word vectors of each tweet.\n",
    "    \"\"\"\n",
    "    # Tokenize each tweet: here we use a simple whitespace split.\n",
    "    tokenized_texts = [tweet.split() for tweet in df[text_column]]\n",
    "    \n",
    "    # Train Word2Vec model on the tokenized tweets\n",
    "    w2v_model = Word2Vec(sentences=tokenized_texts, \n",
    "                         vector_size=embedding_size, \n",
    "                         window=window, \n",
    "                         min_count=min_count,  \n",
    "                         workers=workers)\n",
    "    \n",
    "    # Compute tweet-level embeddings by averaging word vectors\n",
    "    tweet_embeddings = []\n",
    "    for tokens in tokenized_texts:\n",
    "        # Only include words present in the vocabulary of the model\n",
    "        valid_vectors = [w2v_model.wv[token] for token in tokens if token in w2v_model.wv]\n",
    "        if valid_vectors:\n",
    "            tweet_embedding = np.mean(valid_vectors, axis=0)\n",
    "        else:\n",
    "            # If no valid tokens, use a zero vector as placeholder\n",
    "            tweet_embedding = np.zeros(embedding_size)\n",
    "        tweet_embeddings.append(tweet_embedding)\n",
    "    \n",
    "    return np.array(tweet_embeddings), w2v_model\n",
    "\n",
    "def transform_embeddings(df, w2v_model, text_column='cleaned_text', embedding_size=300):\n",
    "    \"\"\"\n",
    "    Transforms a given DataFrame into tweet-level embeddings using an existing Word2Vec model.\n",
    "    \"\"\"\n",
    "    tokenized_texts = [tweet.split() for tweet in df[text_column]]\n",
    "    tweet_embeddings = []\n",
    "    for tokens in tokenized_texts:\n",
    "        valid_vectors = [w2v_model.wv[token] for token in tokens if token in w2v_model.wv]\n",
    "        if valid_vectors:\n",
    "            tweet_embedding = np.mean(valid_vectors, axis=0)\n",
    "        else:\n",
    "            tweet_embedding = np.zeros(embedding_size)\n",
    "        tweet_embeddings.append(tweet_embedding)\n",
    "    return np.array(tweet_embeddings)"
   ]
  },
  {
   "cell_type": "code",
   "execution_count": null,
   "metadata": {},
   "outputs": [],
   "source": [
    "# Create the Word2Vec model and tweet-level embeddings\n",
    "tweet_embeddings, w2v_model = word_embeddings(raw_corpus)\n",
    "# Save the Word2Vec model and tweet-level embeddings\n",
    "with open('./pickle/train_embeddings.pkl', 'wb') as f:\n",
    "    pickle.dump(tweet_embeddings, f)\n",
    "with open('./pickle/w2v_model.pkl', 'wb') as f:\n",
    "    pickle.dump(w2v_model, f)\n",
    "\n",
    "# Create the Word2Vec model and tweet-level embeddings for the test corpus\n",
    "test_tweet_embeddings = transform_embeddings(test_corpus, w2v_model)\n",
    "# Save the Word2Vec model and tweet-level embeddings\n",
    "with open('./pickle/test_embeddings.pkl', 'wb') as f:\n",
    "    pickle.dump(test_tweet_embeddings, f)"
   ]
  },
  {
   "cell_type": "markdown",
   "metadata": {},
   "source": [
    "### 3. Dictionary Methods"
   ]
  },
  {
   "cell_type": "code",
   "execution_count": 15,
   "metadata": {},
   "outputs": [],
   "source": [
    "from sklearn.metrics import f1_score"
   ]
  },
  {
   "cell_type": "markdown",
   "metadata": {},
   "source": [
    "##### Dictionary Construction\n",
    "- Base dictionary derived from the LIWC dictionary, expanded manually and further refined using Word2Vec-generated similar words.\n",
    "- Separate positive and negative word lists were created and manually refined based on high-similarity thresholds from the Word2Vec model."
   ]
  },
  {
   "cell_type": "code",
   "execution_count": 19,
   "metadata": {},
   "outputs": [],
   "source": [
    "# Use the LIWC dictionary as the base dictionary\n",
    "# I have already extract the positive and negative words from the LIWC dictionary\n",
    "# and saved them in the dict folder\n",
    "with open('./dict/liwc_pos.txt') as f:\n",
    "    liwc_pos = f.read().splitlines()\n",
    "with open('./dict/liwc_neg.txt') as f:\n",
    "    liwc_neg = f.read().splitlines()"
   ]
  },
  {
   "cell_type": "code",
   "execution_count": 20,
   "metadata": {},
   "outputs": [],
   "source": [
    "# Manually update the dictionary (Previous results)\n",
    "pos_words = liwc_pos + [\n",
    "    'incredible', 'upgraded', 'praise', 'winning', 'impressive', 'comfy', 'blessed', 'bless',\n",
    "    'yumm', 'adorable', 'grateful', 'trophy', 'tasty', 'favourite', 'winner', 'hahah', 'delicious', 'glorious', 'inspiring', 'delish'\n",
    "    ]\n",
    "neg_words = liwc_neg + [\n",
    "    'racist', 'shitty', 'creepy', 'devastated', 'miserable', 'uncomfortable', 'smelly', \n",
    "    'retarded', 'condolence', 'asshole', 'loss', 'offended', 'scar', 'heartbreaking', 'injury', \n",
    "    'severe', 'anger', 'disgusting', 'stormy', 'ughh', 'bleeding', 'stalker', 'horrid', 'saddened', \n",
    "    'cramp', 'poop', 'broken', 'stuffy', 'painful', 'tragedy', 'disease', 'mourning', 'ick', 'asthma'\n",
    "    ]"
   ]
  },
  {
   "cell_type": "code",
   "execution_count": 18,
   "metadata": {},
   "outputs": [
    {
     "name": "stdout",
     "output_type": "stream",
     "text": [
      "Number of similar words found: 92\n",
      "{'warmer', 'winner', 'delicious', 'healthy', 'tragic', 'relief', 'thnx', 'heal', 'asshole', 'besties', 'inspiring', 'ignore', 'lose', 'sunny', 'warming', 'ughh', 'scar', 'yumm', 'creating', 'blessed', 'losing', 'offended', 'accepted', 'beloved', 'helpful', 'create', 'safety', 'heartbreaking', 'confuse', 'suffering', 'confusing', 'yum', 'offense', 'lying', 'saddened', 'neat', 'painful', 'wisdom', 'popular', 'weird', 'glorious', 'excited', 'stormy', 'anxiety', 'gloom', 'asthma', 'hahah', 'protest', 'strange', 'winning', 'healing', 'tragedy', 'respect', 'warm', 'supported', 'mock', 'original', 'messy', 'delish', 'upgraded', 'severe', 'stinky', 'bold', 'bleeding', 'creepy', 'created', 'trophy', 'interested', 'violence', 'condolence', 'cramp', 'kidding', 'stuffy', 'tasty', 'thanks', 'loses', 'bestie', 'benefit', 'praise', 'poop', 'comfy', 'creativity', 'hah', 'difficulty', 'ick', 'cutest', 'stalker', 'gloomy', 'yummy', 'injury', 'miserable', 'gross'}\n"
     ]
    }
   ],
   "source": [
    "# Expand the LIWC dictionary with Word2Vec\n",
    "# Find similar words to the LIWC words using Word2Vec\n",
    "expanded_words = set()\n",
    "\n",
    "# Here I mixed the positive and negative words as antonyms may also have high similarity score in some context\n",
    "# Consider this example: \"male\", \"king\", \"queen\"\n",
    "base_words = pos_words + neg_words\n",
    "\n",
    "for word in base_words: \n",
    "    try:\n",
    "        similar_words = w2v_model.wv.most_similar(word, topn=10)\n",
    "        for sim_word, similarity in similar_words:\n",
    "            if similarity > 0.7 and sim_word not in base_words: # Set a relative strict threshold for similarity \n",
    "                expanded_words.add(word)\n",
    "    except:\n",
    "        continue\n",
    "\n",
    "print(f\"Number of similar words found: {len(expanded_words)}\")\n",
    "print(f\"{expanded_words}\")"
   ]
  },
  {
   "cell_type": "code",
   "execution_count": null,
   "metadata": {},
   "outputs": [],
   "source": [
    "# Manually update the dictionary\n",
    "pos_words = pos_words + [\n",
    "    \"delicious\", \"relief\", \"thnx\", \"heal\", \"besties\", \"inspiring\", \"sunny\", \"warming\", \"blessed\",\n",
    "    \"beloved\", \"helpful\", \"yum\", \"glorious\", \"excited\", \"healing\", \"respect\", \"supported\",\n",
    "    \"delish\", \"upgraded\", \"interested\", \"tasty\", \"thanks\", \"bestie\",\n",
    "    \"benefit\", \"praise\", \"comfy\", \"cutest\", \"yummy\", \"hahah\", \"hah\"\n",
    "]\n",
    "neg_words = neg_words + [\n",
    "    \"tragic\", \"asshole\", \"ughh\", \"scar\", \"losing\", \"offended\",\n",
    "    \"heartbreaking\", \"confuse\", \"suffering\", \"confusing\", \"offense\", \"lying\",\n",
    "    \"saddened\", \"painful\", \"anxiety\", \"gloom\", \"tragedy\", \"mock\",\n",
    "    \"messy\", \"severe\", \"stinky\", \"bleeding\", \"creepy\", \"condolence\",\n",
    "    \"cramp\", \"stuffy\", \"loses\", \"poop\", \"ick\", \"gloomy\", \"injury\", \"miserable\", \"gross\"\n",
    "]"
   ]
  },
  {
   "cell_type": "markdown",
   "metadata": {},
   "source": [
    "##### Dictionary-based Sentiment Analysis\n",
    "- Sentiment scores computed based on the frequency of positive and negative words, normalized by the total word count.\n",
    "- Tweets classified as \"Positive,\" \"Negative,\" or \"Neutral\" depending on sentiment scores."
   ]
  },
  {
   "cell_type": "code",
   "execution_count": 22,
   "metadata": {},
   "outputs": [],
   "source": [
    "# Dictionary-based sentiment analysis\n",
    "def dict_senti_analysis(text, pos_words=pos_words, neg_words=neg_words):\n",
    "    \"\"\"\n",
    "    Evaluate the dictionary by counting the number of positive and negative words in each tweet.\n",
    "    \"\"\"\n",
    "    words = text.split()\n",
    "    word_count = len(words)\n",
    "    if word_count == 0:\n",
    "        return \"Neutral\"\n",
    "    # Count the number of positive and negative words\n",
    "    pos_count = sum(1 for word in words if word in pos_words)\n",
    "    neg_count = sum(1 for word in words if word in neg_words)\n",
    "    # Calculate the sentiment score\n",
    "    sentiment_score = (pos_count - neg_count)/word_count\n",
    "    if sentiment_score > 0:\n",
    "        return \"Positive\"\n",
    "    elif sentiment_score < 0:\n",
    "        return \"Negative\"\n",
    "    else:\n",
    "        return \"Neutral\""
   ]
  },
  {
   "cell_type": "code",
   "execution_count": null,
   "metadata": {},
   "outputs": [],
   "source": [
    "# Sentiment analysis\n",
    "df_dict = raw_corpus[['target','text','cleaned_text']].copy()\n",
    "df_dict['senti_clean_newdict']  = df_dict['cleaned_text'].apply(dict_senti_analysis)\n",
    "df_dict['senti_raw_newdict']    = df_dict['text'].apply(dict_senti_analysis)\n",
    "df_dict['senti_clean_liwcdict'] = df_dict['cleaned_text'].apply(dict_senti_analysis, pos_words=liwc_pos, neg_words=liwc_neg)\n",
    "df_dict['senti_raw_liwcdict']   = df_dict['text'].apply(dict_senti_analysis, pos_words=liwc_pos, neg_words=liwc_neg)"
   ]
  },
  {
   "cell_type": "markdown",
   "metadata": {},
   "source": [
    "##### Evaluation\n",
    "The dictionary method was evaluated using F1 scores, with and without considering \"Neutral\" predictions as incorrect."
   ]
  },
  {
   "cell_type": "code",
   "execution_count": 24,
   "metadata": {},
   "outputs": [],
   "source": [
    "def evaluate_with_nonresponse(df, target_col='target', pred_col='senti_clean_newdict', non_maker='Neutral'):\n",
    "    \"\"\"\n",
    "    Evaluate the model by calculating F1 score.\n",
    "    As there is no neutral class in the target variable, the neutral class would be considered as wrong predictions or failures.\n",
    "    \"\"\"\n",
    "    df = df.copy()\n",
    "    df[target_col] = df[target_col].astype('str')\n",
    "    df[pred_col] = df[pred_col].astype('str')\n",
    "    # Calculate the proportion of neutral class\n",
    "    non_prob = df[pred_col].value_counts(normalize=True).get(non_maker, 0)\n",
    "    \n",
    "    # Calculate the F1 score without neutral class\n",
    "    df_without_non = df[df[pred_col] != non_maker]\n",
    "    f1_without_non = f1_score(df_without_non[target_col], df_without_non[pred_col], average='macro')\n",
    "\n",
    "    # Calculate the F1 score with neutral class (as wrong predictions)\n",
    "    tp_pos = ((df[target_col] == 'Positive') & (df[pred_col] == 'Positive')).sum()\n",
    "    fn_pos = ((df[target_col] == 'Positive') & (df[pred_col] != 'Positive')).sum()\n",
    "    fp_pos = ((df[target_col] != 'Positive') & (df[pred_col] == 'Positive')).sum()\n",
    "    tp_neg = ((df[target_col] == 'Negative') & (df[pred_col] == 'Negative')).sum()\n",
    "    fn_neg = ((df[target_col] == 'Negative') & (df[pred_col] != 'Negative')).sum()\n",
    "    fp_neg = ((df[target_col] != 'Negative') & (df[pred_col] == 'Negative')).sum()\n",
    "\n",
    "    precision_pos = tp_pos / (tp_pos + fp_pos) if (tp_pos + fp_pos) > 0 else 0\n",
    "    recall_pos = tp_pos / (tp_pos + fn_pos) if (tp_pos + fn_pos) > 0 else 0\n",
    "    f1_pos = 2*(precision_pos*recall_pos)/(precision_pos+recall_pos) if (precision_pos+recall_pos) >0 else 0\n",
    "    \n",
    "    precision_neg = tp_neg / (tp_neg + fp_neg) if (tp_neg + fp_neg) > 0 else 0\n",
    "    recall_neg = tp_neg / (tp_neg + fn_neg) if (tp_neg + fn_neg) > 0 else 0\n",
    "    f1_neg = 2*(precision_neg*recall_neg)/(precision_neg+recall_neg) if (precision_neg+recall_neg) >0 else 0\n",
    "\n",
    "    f1_with_non = (f1_pos + f1_neg)/2\n",
    "\n",
    "    result = {\n",
    "        'None Probability': non_prob,\n",
    "        'F1 Score without None/Neutral': f1_without_non,\n",
    "        'F1 Score with None/Neutral': f1_with_non\n",
    "    }\n",
    "    return result"
   ]
  },
  {
   "cell_type": "code",
   "execution_count": 34,
   "metadata": {},
   "outputs": [],
   "source": [
    "# Transform the target variable\n",
    "df_dict['target'] = df_dict['target'].replace({0: 'Negative', 4: 'Positive'})"
   ]
  },
  {
   "cell_type": "code",
   "execution_count": 26,
   "metadata": {},
   "outputs": [
    {
     "data": {
      "text/html": [
       "<div>\n",
       "<style scoped>\n",
       "    .dataframe tbody tr th:only-of-type {\n",
       "        vertical-align: middle;\n",
       "    }\n",
       "\n",
       "    .dataframe tbody tr th {\n",
       "        vertical-align: top;\n",
       "    }\n",
       "\n",
       "    .dataframe thead th {\n",
       "        text-align: right;\n",
       "    }\n",
       "</style>\n",
       "<table border=\"1\" class=\"dataframe\">\n",
       "  <thead>\n",
       "    <tr style=\"text-align: right;\">\n",
       "      <th></th>\n",
       "      <th>target</th>\n",
       "      <th>text</th>\n",
       "      <th>cleaned_text</th>\n",
       "      <th>senti_clean_newdict</th>\n",
       "      <th>senti_raw_newdict</th>\n",
       "      <th>senti_clean_liwcdict</th>\n",
       "      <th>senti_raw_liwcdict</th>\n",
       "    </tr>\n",
       "  </thead>\n",
       "  <tbody>\n",
       "    <tr>\n",
       "      <th>count</th>\n",
       "      <td>1280023</td>\n",
       "      <td>1280023</td>\n",
       "      <td>1280023</td>\n",
       "      <td>1280023</td>\n",
       "      <td>1280023</td>\n",
       "      <td>1280023</td>\n",
       "      <td>1280023</td>\n",
       "    </tr>\n",
       "    <tr>\n",
       "      <th>unique</th>\n",
       "      <td>2</td>\n",
       "      <td>1266575</td>\n",
       "      <td>1114900</td>\n",
       "      <td>3</td>\n",
       "      <td>3</td>\n",
       "      <td>3</td>\n",
       "      <td>3</td>\n",
       "    </tr>\n",
       "    <tr>\n",
       "      <th>top</th>\n",
       "      <td>Positive</td>\n",
       "      <td>isPlayer Has Died! Sorry</td>\n",
       "      <td></td>\n",
       "      <td>Neutral</td>\n",
       "      <td>Neutral</td>\n",
       "      <td>Neutral</td>\n",
       "      <td>Neutral</td>\n",
       "    </tr>\n",
       "    <tr>\n",
       "      <th>freq</th>\n",
       "      <td>640050</td>\n",
       "      <td>166</td>\n",
       "      <td>27996</td>\n",
       "      <td>736506</td>\n",
       "      <td>791982</td>\n",
       "      <td>736506</td>\n",
       "      <td>791982</td>\n",
       "    </tr>\n",
       "  </tbody>\n",
       "</table>\n",
       "</div>"
      ],
      "text/plain": [
       "          target                       text cleaned_text senti_clean_newdict  \\\n",
       "count    1280023                    1280023      1280023             1280023   \n",
       "unique         2                    1266575      1114900                   3   \n",
       "top     Positive  isPlayer Has Died! Sorry                           Neutral   \n",
       "freq      640050                        166        27996              736506   \n",
       "\n",
       "       senti_raw_newdict senti_clean_liwcdict senti_raw_liwcdict  \n",
       "count            1280023              1280023            1280023  \n",
       "unique                 3                    3                  3  \n",
       "top              Neutral              Neutral            Neutral  \n",
       "freq              791982               736506             791982  "
      ]
     },
     "execution_count": 26,
     "metadata": {},
     "output_type": "execute_result"
    }
   ],
   "source": [
    "# Mainly for checking missing values\n",
    "df_dict.describe()"
   ]
  },
  {
   "cell_type": "code",
   "execution_count": 35,
   "metadata": {},
   "outputs": [],
   "source": [
    "# Evaluate on training set\n",
    "res_clean_newdict   = evaluate_with_nonresponse(df_dict, target_col='target', pred_col='senti_clean_newdict')\n",
    "res_raw_newdict     = evaluate_with_nonresponse(df_dict, target_col='target', pred_col='senti_raw_newdict')\n",
    "res_clean_liwcdict  = evaluate_with_nonresponse(df_dict, target_col='target', pred_col='senti_clean_liwcdict')\n",
    "res_raw_liwcdict    = evaluate_with_nonresponse(df_dict, target_col='target', pred_col='senti_raw_liwcdict')"
   ]
  },
  {
   "cell_type": "code",
   "execution_count": 36,
   "metadata": {},
   "outputs": [
    {
     "name": "stdout",
     "output_type": "stream",
     "text": [
      "=== Training Set Evaluation ===\n",
      "Results for cleaned text with new dictionary:\n",
      "{'None Probability': 0.5753849735512565, 'F1 Score without None/Neutral': 0.7266659919922769, 'F1 Score with None/Neutral': 0.431970058329723}\n",
      "Results for raw text with new dictionary:\n",
      "{'None Probability': 0.6187248197883944, 'F1 Score without None/Neutral': 0.721354777922287, 'F1 Score with None/Neutral': 0.39731745492753184}\n",
      "Results for cleaned text with LIWC dictionary:\n",
      "{'None Probability': 0.5835832637382297, 'F1 Score without None/Neutral': 0.7229195003590456, 'F1 Score with None/Neutral': 0.42391983508390596}\n",
      "Results for raw text with LIWC dictionary:\n",
      "{'None Probability': 0.6239403510718167, 'F1 Score without None/Neutral': 0.7188265742974502, 'F1 Score with None/Neutral': 0.39202306853460717}\n"
     ]
    }
   ],
   "source": [
    "# Print the results\n",
    "print(\"=== Training Set Evaluation ===\")\n",
    "print(\"Results for cleaned text with new dictionary:\")\n",
    "print(res_clean_newdict)\n",
    "print(\"Results for raw text with new dictionary:\")\n",
    "print(res_raw_newdict)\n",
    "print(\"Results for cleaned text with LIWC dictionary:\")\n",
    "print(res_clean_liwcdict)\n",
    "print(\"Results for raw text with LIWC dictionary:\")\n",
    "print(res_raw_liwcdict)"
   ]
  },
  {
   "cell_type": "code",
   "execution_count": 37,
   "metadata": {},
   "outputs": [
    {
     "name": "stdout",
     "output_type": "stream",
     "text": [
      "=== Test Set Evaluation ===\n",
      "Results for cleaned text with new dictionary on test set:\n",
      "{'None Probability': 0.5742694006131691, 'F1 Score without None/Neutral': 0.726486172124363, 'F1 Score with None/Neutral': 0.43268281332196656}\n",
      "Results for raw text with new dictionary on test set:\n",
      "{'None Probability': 0.6184350750210171, 'F1 Score without None/Neutral': 0.722046925942688, 'F1 Score with None/Neutral': 0.3979166893485273}\n",
      "Results for cleaned text with LIWC dictionary on test set:\n",
      "{'None Probability': 0.5824324873350272, 'F1 Score without None/Neutral': 0.7227043965924, 'F1 Score with None/Neutral': 0.4246354390148033}\n",
      "Results for raw text with LIWC dictionary on test set:\n",
      "{'None Probability': 0.6234604362188533, 'F1 Score without None/Neutral': 0.7197298832681427, 'F1 Score with None/Neutral': 0.3928711485574129}\n"
     ]
    }
   ],
   "source": [
    "# Evaluate on test set\n",
    "test_df_dict = test_corpus[['target','text','cleaned_text']].copy()\n",
    "test_df_dict['senti_clean_newdict'] = test_df_dict['cleaned_text'].apply(dict_senti_analysis)\n",
    "test_df_dict['senti_raw_newdict'] = test_df_dict['text'].apply(dict_senti_analysis)\n",
    "test_df_dict['senti_clean_liwcdict'] = test_df_dict['cleaned_text'].apply(dict_senti_analysis, pos_words=liwc_pos, neg_words=liwc_neg)\n",
    "test_df_dict['senti_raw_liwcdict'] = test_df_dict['text'].apply(dict_senti_analysis, pos_words=liwc_pos, neg_words=liwc_neg)\n",
    "# Transform the target variable\n",
    "test_df_dict['target'] = test_df_dict['target'].replace({0: 'Negative', 4: 'Positive'})\n",
    "\n",
    "# Evaluate the model on the test set\n",
    "res_test_clean_newdict  = evaluate_with_nonresponse(test_df_dict, target_col='target', pred_col='senti_clean_newdict')\n",
    "res_test_raw_newdict     = evaluate_with_nonresponse(test_df_dict, target_col='target', pred_col='senti_raw_newdict')\n",
    "res_test_clean_liwcdict = evaluate_with_nonresponse(test_df_dict, target_col='target', pred_col='senti_clean_liwcdict')\n",
    "res_test_raw_liwcdict   = evaluate_with_nonresponse(test_df_dict, target_col='target', pred_col='senti_raw_liwcdict')\n",
    "\n",
    "# Print the results\n",
    "print(\"=== Test Set Evaluation ===\")\n",
    "print(\"Results for cleaned text with new dictionary on test set:\")\n",
    "print(res_test_clean_newdict)\n",
    "print(\"Results for raw text with new dictionary on test set:\")\n",
    "print(res_test_raw_newdict)\n",
    "print(\"Results for cleaned text with LIWC dictionary on test set:\")\n",
    "print(res_test_clean_liwcdict)\n",
    "print(\"Results for raw text with LIWC dictionary on test set:\")\n",
    "print(res_test_raw_liwcdict)"
   ]
  },
  {
   "cell_type": "code",
   "execution_count": 41,
   "metadata": {},
   "outputs": [
    {
     "data": {
      "image/png": "[encoded data removed]",
      "text/plain": [
       "<Figure size 1400x1200 with 4 Axes>"
      ]
     },
     "metadata": {},
     "output_type": "display_data"
    }
   ],
   "source": [
    "## Visualization -------------\n",
    "# For each dataset and evaluation metric, we have two values per dictionary type:\n",
    "# [Cleaned, Raw]\n",
    "# Training set\n",
    "train_scores_with = {\n",
    "    'LIWC Dictionary': [res_clean_liwcdict['F1 Score with None/Neutral'], res_raw_liwcdict['F1 Score with None/Neutral']],\n",
    "    'New Dictionary': [res_clean_newdict['F1 Score with None/Neutral'], res_raw_newdict['F1 Score with None/Neutral']]\n",
    "}\n",
    "train_scores_without = {\n",
    "    'LIWC Dictionary': [res_clean_liwcdict['F1 Score without None/Neutral'], res_raw_liwcdict['F1 Score without None/Neutral']],\n",
    "    'New Dictionary': [res_clean_newdict['F1 Score without None/Neutral'], res_raw_newdict['F1 Score without None/Neutral']]\n",
    "}\n",
    "# Test set\n",
    "test_scores_with = {\n",
    "    'LIWC Dictionary': [res_test_clean_liwcdict['F1 Score with None/Neutral'], res_test_raw_liwcdict['F1 Score with None/Neutral']],\n",
    "    'New Dictionary': [res_test_clean_newdict['F1 Score with None/Neutral'], res_test_raw_newdict['F1 Score with None/Neutral']]\n",
    "}\n",
    "test_scores_without = {\n",
    "    'LIWC Dictionary': [res_test_clean_liwcdict['F1 Score without None/Neutral'], res_test_raw_liwcdict['F1 Score without None/Neutral']],\n",
    "    'New Dictionary': [res_test_clean_newdict['F1 Score without None/Neutral'], res_test_raw_newdict['F1 Score without None/Neutral']]\n",
    "}\n",
    "\n",
    "# Define dictionary types and text types.\n",
    "dict_types = list(train_scores_with.keys())  # ['New Dictionary', 'LIWC Dictionary']\n",
    "text_types = ['Cleaned', 'Raw']\n",
    "\n",
    "# Plotting Functions\n",
    "def plot_scores(ax, scores, title):\n",
    "    \"\"\"\n",
    "    Plots a grouped bar chart on the provided axis.\n",
    "    \"\"\"\n",
    "    x = np.arange(len(dict_types))\n",
    "    width = 0.35  # width of each bar\n",
    "    offsets = [-width/2, width/2]  # offsets for the two text types\n",
    "    colors = ['#1677ff', '#13c2c2']\n",
    "    \n",
    "    for i, text_type in enumerate(text_types):\n",
    "        vals = [scores[d][i] for d in dict_types]\n",
    "        ax.bar(x + offsets[i], vals, width, label=text_type, color=colors[i])\n",
    "    \n",
    "    ax.set_xticks(x)\n",
    "    ax.set_xticklabels(dict_types, fontsize=12)\n",
    "    ax.set_title(title, fontsize=14)\n",
    "    ax.set_ylabel('F1 Score', fontsize=12)\n",
    "    ax.legend(title='Text Type', fontsize=10)\n",
    "\n",
    "def autolabel(ax):\n",
    "    \"\"\"\n",
    "    Attach a text label above each bar displaying its height.\n",
    "    \"\"\"\n",
    "    for bar in ax.patches:\n",
    "        height = bar.get_height()\n",
    "        ax.annotate(f'{height:.3f}',\n",
    "                    xy=(bar.get_x() + bar.get_width() / 2, height),\n",
    "                    xytext=(0, 3),  # vertical offset in points\n",
    "                    textcoords=\"offset points\",\n",
    "                    ha='center', va='bottom', fontsize=10)\n",
    "\n",
    "\n",
    "# Create a 2x2 Grid of Subplots\n",
    "fig, axes = plt.subplots(2, 2, figsize=(14, 12), sharey=False)\n",
    "\n",
    "# Top Row: Training Set\n",
    "plot_scores(axes[0, 0], train_scores_with, 'Training Set (With Neutral)')\n",
    "plot_scores(axes[0, 1], train_scores_without, 'Training Set (Without Neutral)')\n",
    "\n",
    "# Bottom Row: Test Set\n",
    "plot_scores(axes[1, 0], test_scores_with, 'Test Set (With Neutral)')\n",
    "plot_scores(axes[1, 1], test_scores_without, 'Test Set (Without Neutral)')\n",
    "\n",
    "# Set y-axis limits to zoom in on the differences.\n",
    "# For \"With Neutral\" plots: values ~0.39 to ~0.43 → use a slightly wider range.\n",
    "axes[0, 0].set_ylim(0.38, 0.44)\n",
    "axes[1, 0].set_ylim(0.38, 0.44)\n",
    "# For \"Without Neutral\" plots: values ~0.718 to ~0.727 → use a tighter range.\n",
    "axes[0, 1].set_ylim(0.715, 0.73)\n",
    "axes[1, 1].set_ylim(0.715, 0.73)\n",
    "\n",
    "# Annotate all bars with their values.\n",
    "for ax in axes.flatten():\n",
    "    autolabel(ax)\n",
    "\n",
    "plt.tight_layout()\n",
    "plt.show()"
   ]
  },
  {
   "cell_type": "markdown",
   "metadata": {},
   "source": [
    "##### Interpretation\n",
    "\n",
    "=== The Probability of response \"Neutral\" ===\n",
    "| **Train** |  LIWC  | Expanded |   | **Test** |  LIWC  | Expanded |\n",
    "|-----------|:------:|:--------:|---|----------|:------:|:--------:|\n",
    "| Raw       | .6239  |  .6187   |   | Raw      | .6235  |  .6184   |\n",
    "| Clean     | .5836  | **.5754**|   | Clean    | .5824  |**.5743** |\n",
    "\n",
    "The expanded dictionary approach demonstrated better performance, validating the effectiveness of integrating manual and Word2Vec-based expansions. \n",
    "\n",
    "**Neutral Probability**\n",
    "\n",
    "The relatively high probability of the \"Neutral\" category occurs primarily because the dictionary method can fail to detect emotional expressions if none of the predefined emotional words appear in a tweet. I use a quite strict criteria for \"neutral\" that only the sentiment score was exactly zero, meaning no emotional words were matched. Since the dataset exclusively contains positive and negative sentiments, ideally, there should be very few neutral classifications. The high neutral rate thus indicates limitations in the dictionary’s coverage of emotional vocabulary. \n",
    "- Text Cleaning significantly improved emotional expression detection for dictionary: from approximately 62% (raw text) to about 58% (cleaned text) on the both dataset. Again, text preprocessing is important for downstream tasks.\n",
    "- Expanding the dictionary (based on Word2Vec similarity) also slightly improved the emotional expression detection by decreasing 1%: I use the Word2Vec to search the similar expression in the corpus which enhance the detection ability in certain context. However, as I just expand the dictionary for several rounds which is still away from saturation. More elaboration will reduce the probability of \"Neutral\" classification.\n",
    "\n",
    "**F1-Score**\n",
    "\n",
    "I calculate two types of F1-Score, both of them support the main findings: **(1) The expanded dictionary approach demonstrated better performance; (2) The text preprocessing could significantly improve the performance of downstream tasks.**\n",
    "- F1 Score without Neutral: Represents how accurately the dictionary classifies tweets when emotional words are detected. Higher scores (around 0.72-0.73) demonstrate that the dictionary can reliably classify tweets as positive or negative when it successfully identifies emotional expressions.\n",
    "- F1 Score with Neutral: Considers neutral predictions as errors, resulting in a lower score (around 0.40-0.43). This emphasizes the importance of minimizing neutral classifications by further refining and expanding the dictionary to better detect emotional expressions."
   ]
  },
  {
   "cell_type": "markdown",
   "metadata": {},
   "source": [
    "### 4. Supervised Machine Learning\n",
    "\n",
    "After the dictionary-based approach, a supervised machine learning model leverages labeled examples (the training dataset) to learn predictive patterns directly from data.\n",
    "\n",
    "##### Implementation and Hyperparameter Tuning\n",
    "\n",
    "**Data Splits**\n",
    "- Feature Representations: TF-IDF Document-Term Matrices for training (`X_train`) and testing (`X_test`).\n",
    "\n",
    "**Model Selection**\n",
    "- Naive Bayes (MultinomialNB): A fast, probabilistic classifier assuming feature independence.\n",
    "- Random Forest: An ensemble of decision trees, capturing more complex relationships in the data.\n",
    "\n",
    "**Hyperparameter Tuning**\n",
    "- Performed 10-fold cross-validation (`GridSearchCV`) on the training set for both models.\n",
    "- Explored different parameter grids, focusing on:\n",
    "    - MultinomialNB: `Alpha` (smoothing factor), `fit_prior` (whether to learn class priors), and `class_prior` (manually set priors).\n",
    "    - RandomForestClassifier: `n_estimators` (Number of estimators) and `max_depth` (tree depth).\n",
    "\n",
    "##### Evaluation\n",
    "Reported precision, recall, and F1-scores on both training and test sets using `classification_report`."
   ]
  },
  {
   "cell_type": "code",
   "execution_count": 45,
   "metadata": {},
   "outputs": [],
   "source": [
    "from sklearn.naive_bayes import MultinomialNB\n",
    "from sklearn.ensemble import RandomForestClassifier\n",
    "from sklearn.model_selection import GridSearchCV\n",
    "from sklearn.metrics import classification_report"
   ]
  },
  {
   "cell_type": "code",
   "execution_count": 42,
   "metadata": {},
   "outputs": [],
   "source": [
    "# 10-fold cross-validation\n",
    "def fine_tune_hyperparameters(model, search_params, X_train, y_train):\n",
    "    \"\"\"\n",
    "    Fine-tune the hyperparameters of the model using GridSearchCV.\n",
    "    \"\"\"\n",
    "    grid_search = GridSearchCV(model, search_params, cv=10, n_jobs=-1)\n",
    "    grid_search.fit(X_train, y_train)\n",
    "    print(\"Best parameters found: \", grid_search.best_params_)\n",
    "    return grid_search.best_estimator_\n",
    "\n",
    "def evaluate_model(model, X, y, title=\"\"):\n",
    "    \"\"\"\n",
    "    Evaluate the model using the classification report.\n",
    "    \"\"\"\n",
    "    y_pred = model.predict(X)\n",
    "\n",
    "    if title:\n",
    "        print(f\"{title} Classification Report:\")\n",
    "        print(classification_report(y, y_pred, target_names=['Negative', 'Positive'], digits=4))\n",
    "    else:\n",
    "        print(\"Classification Report:\")\n",
    "        print(classification_report(y, y_pred, target_names=['Negative', 'Positive'], digits=4))"
   ]
  },
  {
   "cell_type": "code",
   "execution_count": 43,
   "metadata": {},
   "outputs": [],
   "source": [
    "# Split the data into training and test sets\n",
    "X_train = dtm\n",
    "y_train = raw_corpus['target']\n",
    "X_test = dtm_test\n",
    "y_test = test_corpus['target']\n",
    "# Convert the target variable to numeric\n",
    "y_train = y_train.replace({0: 0, 4: 1})\n",
    "y_test = y_test.replace({0: 0, 4: 1})"
   ]
  },
  {
   "cell_type": "code",
   "execution_count": 46,
   "metadata": {},
   "outputs": [
    {
     "name": "stdout",
     "output_type": "stream",
     "text": [
      "Tuning MultinomialNB hyperparameters...\n",
      "Best parameters found:  {'alpha': 19, 'class_prior': None, 'fit_prior': True}\n"
     ]
    }
   ],
   "source": [
    "## Model 1: Naive Bayes (MultinomialNB)\n",
    "# Tune hyperparameters for MultinomialNB\n",
    "print(\"Tuning MultinomialNB hyperparameters...\")\n",
    "nb_model = MultinomialNB()\n",
    "nb_search_params = {\n",
    "    # 'alpha': [0.01, 0.1, 1.0, 10.0, 100.0], # Best parameter found: 10 in the previous run\n",
    "    'alpha': range(1, 20, 1),\n",
    "    'fit_prior': [True, False],\n",
    "    'class_prior': [None, [0.5, 0.5]]\n",
    "}\n",
    "\n",
    "nb_model = fine_tune_hyperparameters(nb_model, nb_search_params, X_train, y_train)\n",
    "\n",
    "# Save the tuned Naive Bayes model.\n",
    "with open('./pickle/nb_model.pkl', 'wb') as f:\n",
    "    pickle.dump(nb_model, f)\n",
    "\n",
    "# # Load the model\n",
    "# with open('./pickle/nb_model.pkl', 'rb') as f:\n",
    "#     nb_model = pickle.load(f)"
   ]
  },
  {
   "cell_type": "code",
   "execution_count": 49,
   "metadata": {},
   "outputs": [
    {
     "name": "stdout",
     "output_type": "stream",
     "text": [
      "Tuning Random Forest hyperparameters...\n",
      "Best parameters found:  {'max_depth': 20, 'n_estimators': 200}\n"
     ]
    }
   ],
   "source": [
    "## Model 2: Random Forest Classifier\n",
    "print(\"Tuning Random Forest hyperparameters...\")\n",
    "\n",
    "rf_model = RandomForestClassifier(random_state=42)\n",
    "rf_search_params = {\n",
    "    'n_estimators': [50, 100, 200],\n",
    "    'max_depth': [5, 10, 20],\n",
    "}\n",
    "\n",
    "rf_model = fine_tune_hyperparameters(rf_model, rf_search_params, X_train, y_train)\n",
    "\n",
    "# Save the tuned Random Forest model.\n",
    "with open('./pickle/rf_model.pkl', 'wb') as f:\n",
    "    pickle.dump(rf_model, f)"
   ]
  },
  {
   "cell_type": "code",
   "execution_count": 52,
   "metadata": {},
   "outputs": [
    {
     "name": "stdout",
     "output_type": "stream",
     "text": [
      "Training Set (Naive Bayes) Classification Report:\n",
      "              precision    recall  f1-score   support\n",
      "\n",
      "    Negative     0.7545    0.7011    0.7268    639973\n",
      "    Positive     0.7209    0.7719    0.7455    640050\n",
      "\n",
      "    accuracy                         0.7365   1280023\n",
      "   macro avg     0.7377    0.7365    0.7361   1280023\n",
      "weighted avg     0.7377    0.7365    0.7361   1280023\n",
      "\n",
      "Test Set (Naive Bayes) Classification Report:\n",
      "              precision    recall  f1-score   support\n",
      "\n",
      "    Negative     0.7526    0.6999    0.7253    160027\n",
      "    Positive     0.7194    0.7698    0.7438    159950\n",
      "\n",
      "    accuracy                         0.7349    319977\n",
      "   macro avg     0.7360    0.7349    0.7345    319977\n",
      "weighted avg     0.7360    0.7349    0.7345    319977\n",
      "\n"
     ]
    }
   ],
   "source": [
    "# Evaluate the Naive Bayes model on both training and test sets.\n",
    "evaluate_model(nb_model, X_train, y_train, title=\"Training Set (Naive Bayes)\")\n",
    "evaluate_model(nb_model, X_test, y_test, title=\"Test Set (Naive Bayes)\")"
   ]
  },
  {
   "cell_type": "code",
   "execution_count": 53,
   "metadata": {},
   "outputs": [
    {
     "name": "stdout",
     "output_type": "stream",
     "text": [
      "Training Set (Random Forest) Classification Report:\n",
      "              precision    recall  f1-score   support\n",
      "\n",
      "    Negative     0.7903    0.5248    0.6307    639973\n",
      "    Positive     0.6443    0.8608    0.7370    640050\n",
      "\n",
      "    accuracy                         0.6928   1280023\n",
      "   macro avg     0.7173    0.6928    0.6839   1280023\n",
      "weighted avg     0.7173    0.6928    0.6839   1280023\n",
      "\n",
      "Test Set (Random Forest) Classification Report:\n",
      "              precision    recall  f1-score   support\n",
      "\n",
      "    Negative     0.7834    0.5221    0.6266    160027\n",
      "    Positive     0.6415    0.8556    0.7333    159950\n",
      "\n",
      "    accuracy                         0.6888    319977\n",
      "   macro avg     0.7125    0.6889    0.6799    319977\n",
      "weighted avg     0.7125    0.6888    0.6799    319977\n",
      "\n"
     ]
    }
   ],
   "source": [
    "# Evaluate the Random Forest model on both training and test sets.\n",
    "evaluate_model(rf_model, X_train, y_train, title=\"Training Set (Random Forest)\")\n",
    "evaluate_model(rf_model, X_test, y_test, title=\"Test Set (Random Forest)\")"
   ]
  },
  {
   "cell_type": "markdown",
   "metadata": {},
   "source": [
    "##### Interpretation\n",
    "\n",
    "Overall, Naive Bayes outperforms Random Forest across all metrics, suggesting simpler models may be better suited for this task with TF-IDF features.\n",
    "\n",
    "For specific classification, Naive Bayes achieves better balance between precision/recall while Random Forest shows extreme asymmetry - high negative precision but poor recall, and vice versa for positives.\n",
    "\n",
    "For Comparison between two models. Naive Bayes performs better might because TF-IDF matrices  align well with Naive Bayes’ assumption of conditional independence between features. Additionally, the tree-based method maybe not the good choice for managing high-dimensional sparse text data. Also, I tune only two parameters (n_estimators, max_depth) and both of them suggest more complex tree-structure in parameters tuning, which would not sufficiently capture interactions in TF-IDF features."
   ]
  },
  {
   "cell_type": "markdown",
   "metadata": {},
   "source": [
    "### 5. GPT\n",
    "\n",
    "In this module, I used the ChatGPT to conduct the sentiment analysis. To preserve sentence coherence and cohesion, which can be disrupted by text preprocessing, I leveraged ChatGPT’s advanced natural language processing capabilities to analyze raw text directly. This approach ensures maximum retention of contextual information.\n",
    "\n",
    "##### Experiments\n",
    "\n",
    "**Prompt Engineering**\n",
    "- Vanilla Prompt: A straightforward instruction to respond only with \"Positive\" or \"Negative.\"\n",
    "- Few-Shot Prompt: Includes examples illustrating the classification of sample tweets.\n",
    "\n",
    "Notably, while some studies suggest that zero-shot learning may outperform few-shot approaches in certain complex text analysis tasks—potentially due to insufficient or low-quality examples confusing the model and degrading performance—I intentionally designed a few-shot strategy. My examples included `\"I love this product! :)\"` → Positive and `\"I hate this product! :(\"` → Negative. This decision stemmed from preliminary analysis revealing a high frequency of emoticons in the dataset. By explicitly incorporating emoticons into the examples, I aimed to direct the model’s attention to these contextual cues and improve its sensitivity to their semantic impact.\n",
    "\n",
    "**Temperature Variations**\n",
    "- temperature=0.7: some creativity\n",
    "- temperature=0.3: more deterministic and consistent responses.\n",
    "\n",
    "**Model Variations**\n",
    "- gpt-4o\n",
    "- gpt-4o-mini: smaller\n",
    "\n",
    "**Evaluation**\n",
    "- Sampled 1,000 tweets* from the test corpus, preserving the original distribution of Positive and Negative. Used the same `evaluate_with_nonresponse` function as before\n",
    "\n",
    "*For efficiency in both resource allocation (API costs) and time management, I employed a random sampling strategy, selecting 1,000 entries from the test dataset of approximately 320,000 records. The sampled data exhibited a label distribution closely aligned with the original dataset (52.7% Negative + 47.3% Positive) . Additionally, rather than conducting factorial experiments (e.g., 2x2x2 designs) to evaluate combinations of prompts, temperature settings, and model versions, I performed sequential testing to streamline the process and reduce overhead."
   ]
  },
  {
   "cell_type": "code",
   "execution_count": 54,
   "metadata": {},
   "outputs": [],
   "source": [
    "from openai import AzureOpenAI"
   ]
  },
  {
   "cell_type": "code",
   "execution_count": null,
   "metadata": {},
   "outputs": [],
   "source": [
    "# Parameters\n",
    "client = AzureOpenAI(\n",
    "  azure_endpoint = \"https://hkust.azure-api.net\",\n",
    "  api_version = \"2024-06-01\",\n",
    "  api_key = \"\" #put your api key here\n",
    ")"
   ]
  },
  {
   "cell_type": "code",
   "execution_count": 14,
   "metadata": {},
   "outputs": [],
   "source": [
    "vanilla_prompt = \"\"\"\n",
    "Analyze the sentiment of the following text. Respond using only one of these exact words: Positive, Negative. Do not include any explanation or additional words, no punctuation.\n",
    "\"\"\"\n",
    "\n",
    "fewshot_prompt = \"\"\"\n",
    "Analyze the sentiment of the following text. Respond using only one of these exact words: Positive, Negative. Do not include any explanation or additional words, no punctuation. \n",
    "Example: \"I love this product! :) \" -> Positive, \"I hate this product! :(\" -> Negative\n",
    "\"\"\""
   ]
  },
  {
   "cell_type": "code",
   "execution_count": 15,
   "metadata": {},
   "outputs": [],
   "source": [
    "def get_response(message, instruction = vanilla_prompt, model='gpt-4o', temperature=0.7, max_try = 3):\n",
    "    \"\"\"\"\n",
    "    \"Get the response from the model.\"\n",
    "    \"\"\"\n",
    "    for _ in range(max_try):\n",
    "        try:\n",
    "            # Call the model\n",
    "            response = client.chat.completions.create(\n",
    "                model = model,\n",
    "                temperature = temperature,\n",
    "                messages = [\n",
    "                    {\"role\": \"system\", \"content\": instruction},\n",
    "                    {\"role\": \"user\", \"content\": message}\n",
    "                ]\n",
    "            )\n",
    "            # Check if the response is valid \n",
    "            if \"Positive\" in response.choices[0].message.content:\n",
    "                return \"Positive\"\n",
    "            elif \"Negative\" in response.choices[0].message.content:\n",
    "                return \"Negative\"\n",
    "            else:\n",
    "                # If the response is not valid, try again\n",
    "                continue\n",
    "        except:\n",
    "            continue\n",
    "    # If the response is not valid after max_try times, return None\n",
    "    return None"
   ]
  },
  {
   "cell_type": "code",
   "execution_count": null,
   "metadata": {},
   "outputs": [
    {
     "data": {
      "text/plain": [
       "target\n",
       "0    527\n",
       "1    473\n",
       "Name: count, dtype: int64"
      ]
     },
     "execution_count": 20,
     "metadata": {},
     "output_type": "execute_result"
    }
   ],
   "source": [
    "# For the sake of cost and time, I only sample 1000 tweets from the test corpus\n",
    "df_gpt_sample = test_corpus[['target','text']].sample(1000, random_state=42).copy()\n",
    "df_gpt_sample['target'] = df_gpt_sample['target'].replace({0: \"Negative\", 4: \"Positive\"})\n",
    "df_gpt_sample['target'].value_counts()"
   ]
  },
  {
   "cell_type": "code",
   "execution_count": 56,
   "metadata": {},
   "outputs": [],
   "source": [
    "# Load the results\n",
    "df_gpt_sample = pd.read_csv('./data/gpt_results.csv')"
   ]
  },
  {
   "cell_type": "code",
   "execution_count": null,
   "metadata": {},
   "outputs": [],
   "source": [
    "# Different prompts\n",
    "# df_gpt_sample['4o_vanilla_7'] = df_gpt_sample['text'].apply(get_response, instruction=vanilla_prompt, model='gpt-4o', temperature=0.7)\n",
    "# df_gpt_sample['4o_fewshot_7'] = df_gpt_sample['text'].apply(get_response, instruction=fewshot_prompt, model='gpt-4o', temperature=0.7)\n",
    "\n",
    "# df_gpt_sample['4o_vanilla_7'].fillna(\"NAN\", inplace=True)\n",
    "# df_gpt_sample['4o_fewshot_7'].fillna(\"NAN\", inplace=True)"
   ]
  },
  {
   "cell_type": "code",
   "execution_count": 59,
   "metadata": {},
   "outputs": [
    {
     "name": "stdout",
     "output_type": "stream",
     "text": [
      "Classification Report of Vanilla Prompts:\n",
      "{'None Probability': 0.017, 'F1 Score without None/Neutral': 0.7882900778682012, 'F1 Score with None/Neutral': 0.7814541233035742}\n",
      "Classification Report of Fewshot Prompts:\n",
      "{'None Probability': 0.016, 'F1 Score without None/Neutral': 0.7892671674862181, 'F1 Score with None/Neutral': 0.7827891760373511}\n"
     ]
    }
   ],
   "source": [
    "# Results - Different prompts\n",
    "print(\"Classification Report of Vanilla Prompts:\")\n",
    "print(evaluate_with_nonresponse(df_gpt_sample, target_col='target', pred_col='4o_vanilla_7', non_maker='NAN'))\n",
    "print(\"Classification Report of Fewshot Prompts:\")\n",
    "print(evaluate_with_nonresponse(df_gpt_sample, target_col='target', pred_col='4o_fewshot_7', non_maker='NAN'))"
   ]
  },
  {
   "cell_type": "code",
   "execution_count": 60,
   "metadata": {},
   "outputs": [
    {
     "name": "stdout",
     "output_type": "stream",
     "text": [
      "Classification Report of Fewshots Prompts with Temperature 0.3:\n",
      "{'None Probability': 0.02, 'F1 Score without None/Neutral': 0.8039141350317613, 'F1 Score with None/Neutral': 0.795542628665459}\n"
     ]
    }
   ],
   "source": [
    "# # Different temperature\n",
    "# df_gpt_sample['4o_fewshot_3'] = df_gpt_sample['text'].apply(get_response, instruction=fewshot_prompt, model='gpt-4o', temperature=0.3)\n",
    "# df_gpt_sample['4o_fewshot_3'].fillna(\"NAN\", inplace=True)\n",
    "\n",
    "# Results - Different temperature\n",
    "print(\"Classification Report of Fewshots Prompts with Temperature 0.3:\")\n",
    "print(evaluate_with_nonresponse(df_gpt_sample, target_col='target', pred_col='4o_fewshot_3', non_maker='NAN'))"
   ]
  },
  {
   "cell_type": "code",
   "execution_count": 61,
   "metadata": {},
   "outputs": [
    {
     "name": "stdout",
     "output_type": "stream",
     "text": [
      "Classification Report of Fewshot Prompts with Mini Model:\n",
      "{'None Probability': 0.02, 'F1 Score without None/Neutral': 0.7816926817789631, 'F1 Score with None/Neutral': 0.7737365830467908}\n"
     ]
    }
   ],
   "source": [
    "# # Different models\n",
    "# df_gpt_sample['4omini_fewshot_7'] = df_gpt_sample['text'].apply(get_response, instruction=fewshot_prompt, model='gpt-4o-mini', temperature=0.7)\n",
    "# df_gpt_sample['4omini_fewshot_7'].fillna(\"NAN\", inplace=True)\n",
    "\n",
    "# Results - Different models\n",
    "print(\"Classification Report of Fewshot Prompts with Mini Model:\")\n",
    "print(evaluate_with_nonresponse(df_gpt_sample, target_col='target', pred_col='4omini_fewshot_7', non_maker='NAN'))"
   ]
  },
  {
   "cell_type": "code",
   "execution_count": null,
   "metadata": {},
   "outputs": [],
   "source": [
    "# # Save the results\n",
    "# df_gpt_sample.to_csv('./data/gpt_results.csv', index=False)"
   ]
  },
  {
   "cell_type": "markdown",
   "metadata": {},
   "source": [
    "##### Interpretation\n",
    "\n",
    "| Configuration        | None Probability | F1 (Excl. None) | F1 (Incl. None) |\n",
    "|----------------------|:----------------:|:---------------:|:---------------:|\n",
    "| Vanilla Prompts      |       1.7%       |      0.788      |      0.781      |\n",
    "| Fewshot Prompts      |       1.6%       |      0.789      |      0.783      |\n",
    "| Fewshot + Temp 0.3   |       2.0%       |    **0.804**    |    **0.796**    |\n",
    "| Fewshot + Mini Model |       2.0%       |      0.782      |      0.774      |\n",
    "\n",
    "None Probability (Unclassified Responses):\n",
    "- All configurations show low \"None\" rates (1.6–2.0%), indicating ChatGPT generally adheres to the required response format.\n",
    "- The slight increase in \"None\" for Temperature 0.3 and Smaller model (2.0%) suggests:\n",
    "    - Lower temperature may reduce response variability, increasing strict adherence (or rigidity).\n",
    "    - Smaller models (gpt40-mini) may struggle with ambiguous or neutral text.\n",
    "\n",
    "Performance Trends (F1 Scores):\n",
    "- Fewshot + Temperature 0.3 performs best:\n",
    "    - F1 = 0.804 (excluding None) and 0.796 (including None).\n",
    "    - Lower temperature (0.3) likely stabilizes outputs, reducing randomness and improving consistency.\n",
    "- Vanilla vs. Fewshot Prompts:\n",
    "    - Fewshot marginally outperforms vanilla prompts (F1 ~0.789 vs. 0.788).\n",
    "    - My emoticon-focused examples likely helped the model better recognize sentiment cues.\n",
    "- Mini Model Limitations:\n",
    "    - Lowest F1 scores (0.772–0.782) highlight reduced capability compared to larger models.\n",
    "\n",
    "Impact of Including/Excluding None Responses:\n",
    "- F1 consistently drops when treating \"None\" as false predictions (~0.005–0.01 decline).\n",
    "- This gap reflects ambiguous cases where ChatGPT abstains from labeling (neutral or unclear text)."
   ]
  },
  {
   "cell_type": "markdown",
   "metadata": {},
   "source": [
    "### 6. Topic Modeling\n",
    "\n",
    "Topic modeling provides an unsupervised approach to discover latent themes in Tweets. Ideally, some topics would positive-dominant and some are mainly negative. So topic modeling could be used for sentiment analysis.\n",
    "\n",
    "##### Initialization\n",
    "I use the Latent Dirichlet Allocation (LDA) with `Gensim` to learn hidden topics. Use the tokenized corpus as documents, transformed into bag-of-words (dictionary, corpus), then fed into LDA.\n",
    "\n",
    "##### Find optimal number of topics\n",
    "To determine the optimal number of topics, I measure both coherence and exclusivity score for models. \n",
    "- Coherence indicates how semantically consistent a topic is. I use `c_v` as measurement. \n",
    "- Refer to `stm` package in R. I use the FRequent and EXclusivity (FREX) score to measure exclusivity, which balances high-frequency words and exclusivity of usage within each topic. \n",
    "\n",
    "Then I evaluate a range (from 3 to 15) based on these measurements. The optimal number of topics would be chosen by analyzing the trade-off between coherence and exclusivity."
   ]
  },
  {
   "cell_type": "code",
   "execution_count": null,
   "metadata": {},
   "outputs": [],
   "source": [
    "import numpy as np\n",
    "import matplotlib.pyplot as plt\n",
    "from gensim import corpora\n",
    "from gensim.models import LdaModel, CoherenceModel\n",
    "from scipy.stats import rankdata\n",
    "\n",
    "def compute_frex_scores(lda_model, dictionary, top_n_tokens=20, excl_weight=0.5):\n",
    "    \"\"\"\n",
    "    Computes FREX scores for each topic in an LDA model.\n",
    "    \n",
    "    FREX (FREquency and EXclusivity) is a weighted harmonic combination of:\n",
    "      - Frequency: how common the token is in the topic (raw beta values).\n",
    "      - Exclusivity: how exclusive the token is to the topic relative to its usage in all topics.\n",
    "      \n",
    "    This function refer to https://rdrr.io/cran/topicdoc/src/R/topic_exclusivity.R\n",
    "    \"\"\"\n",
    "    # Get the beta matrix: shape (num_topics, vocabulary_size)\n",
    "    beta_mat = lda_model.get_topics()  # Each row sums to 1.\n",
    "    num_topics, V = beta_mat.shape\n",
    "    \n",
    "    # Compute beta_normed: for each term (column), normalize across topics.\n",
    "    col_sums = beta_mat.sum(axis=0)\n",
    "    beta_normed = beta_mat / col_sums  # Shape: (num_topics, V)\n",
    "    \n",
    "    # Compute rank matrices for frequency and exclusivity.\n",
    "    # For each topic (row), rankdata gives ranks where the highest probability gets rank = V.\n",
    "    excls = np.zeros_like(beta_normed)\n",
    "    freqs = np.zeros_like(beta_mat)\n",
    "    for t in range(num_topics):\n",
    "        excls[t, :] = rankdata(beta_normed[t, :], method='average')\n",
    "        freqs[t, :] = rankdata(beta_mat[t, :], method='average')\n",
    "    # Normalize ranks by dividing by V, so values are in (0, 1] with 1 = best.\n",
    "    excls = excls / V\n",
    "    freqs = freqs / V\n",
    "    \n",
    "    # For each topic, obtain the top_n_tokens (by raw beta probability)\n",
    "    frex_scores = np.zeros(num_topics)\n",
    "    for t in range(num_topics):\n",
    "        # Get indices of the top tokens for topic t (highest probability words)\n",
    "        top_indices = np.argsort(beta_mat[t, :])[::-1][:top_n_tokens]\n",
    "        \n",
    "        # Extract the exclusivity and frequency normalized ranks for these tokens\n",
    "        topic_excls = excls[t, top_indices]\n",
    "        topic_freqs = freqs[t, top_indices]\n",
    "        \n",
    "        # Compute the FREX score for each token:\n",
    "        # For each token:\n",
    "        #   score = 1 / ( (excl_weight / exclusivity_rank) + ((1 - excl_weight) / frequency_rank) )\n",
    "        token_scores = 1.0 / ((excl_weight / topic_excls) + ((1 - excl_weight) / topic_freqs))\n",
    "        # Sum token scores to get a FREX score for the topic.\n",
    "        frex_scores[t] = token_scores.sum()\n",
    "    \n",
    "    return frex_scores\n",
    "\n",
    "def topic_modeling_evaluation(docs, num_topics=10, top_n_tokens=20, passes=10, random_state=42, excl_weight=0.5):\n",
    "    \"\"\"\n",
    "    Trains an LDA model and evaluates it using:\n",
    "      - Coherence (semantic cohesiveness) via Gensim's CoherenceModel.\n",
    "      - FREX scores (as a combined measure of frequency and exclusivity) computed via rank-based metrics.\n",
    "    \"\"\"\n",
    "    # Create dictionary and corpus from preprocessed docs\n",
    "    dictionary = corpora.Dictionary(docs)\n",
    "    corpus = [dictionary.doc2bow(doc) for doc in docs]\n",
    "    \n",
    "    # Train the LDA model\n",
    "    lda_model = LdaModel(corpus=corpus,\n",
    "                         id2word=dictionary,\n",
    "                         num_topics=num_topics,\n",
    "                         random_state=random_state,\n",
    "                         passes=passes)\n",
    "    \n",
    "    # Compute coherence using the 'c_v' measure\n",
    "    coherence_model = CoherenceModel(model=lda_model,\n",
    "                                     texts=docs,\n",
    "                                     dictionary=dictionary,\n",
    "                                     coherence='c_v')\n",
    "    coherence_score = coherence_model.get_coherence()\n",
    "    \n",
    "    # Compute FREX scores (which combine exclusivity and frequency aspects)\n",
    "    frex_scores = compute_frex_scores(lda_model, dictionary, top_n_tokens=top_n_tokens, excl_weight=excl_weight)\n",
    "    avg_frex = np.mean(frex_scores)\n",
    "    \n",
    "    return lda_model, coherence_score, avg_frex, frex_scores, dictionary, corpus\n",
    "\n",
    "def evaluate_topic_range(docs, topic_range, top_n_tokens=20, passes=10, excl_weight=0.5):\n",
    "    \"\"\"\n",
    "    Evaluates LDA models over a range of topic numbers and collects coherence and exclusivity scores.\n",
    "    \"\"\"\n",
    "    coherence_scores = []\n",
    "    avg_frex_scores = []\n",
    "    \n",
    "    for num_topics in topic_range:\n",
    "        _, coherence_score, avg_frex, frex_scores, _, _ = topic_modeling_evaluation(\n",
    "            docs, num_topics=num_topics, top_n_tokens=top_n_tokens, passes=passes, excl_weight=excl_weight)\n",
    "        coherence_scores.append(coherence_score)\n",
    "        avg_frex_scores.append(avg_frex)\n",
    "        print(f\"Num topics: {num_topics}, Coherence: {coherence_score:.4f}, Exclusivity: {avg_frex:.4f}\")\n",
    "    \n",
    "    return coherence_scores, avg_frex_scores"
   ]
  },
  {
   "cell_type": "code",
   "execution_count": 64,
   "metadata": {},
   "outputs": [],
   "source": [
    "# The docs must be tokenized and preprocessed\n",
    "docs = test_corpus['cleaned_text'].str.split().tolist()"
   ]
  },
  {
   "cell_type": "code",
   "execution_count": 67,
   "metadata": {},
   "outputs": [
    {
     "name": "stdout",
     "output_type": "stream",
     "text": [
      "Num topics: 3, Coherence: 0.3602, Avg FREX: 19.3286\n",
      "Num topics: 4, Coherence: 0.3017, Avg FREX: 19.5380\n",
      "Num topics: 5, Coherence: 0.3406, Avg FREX: 19.5556\n",
      "Num topics: 6, Coherence: 0.3506, Avg FREX: 19.5257\n",
      "Num topics: 7, Coherence: 0.3377, Avg FREX: 19.7095\n",
      "Num topics: 8, Coherence: 0.3300, Avg FREX: 19.7582\n",
      "Num topics: 9, Coherence: 0.3137, Avg FREX: 19.6833\n",
      "Num topics: 10, Coherence: 0.3034, Avg FREX: 19.9843\n",
      "Num topics: 11, Coherence: 0.2911, Avg FREX: 19.6512\n",
      "Num topics: 12, Coherence: 0.2748, Avg FREX: 19.9952\n",
      "Num topics: 13, Coherence: 0.2668, Avg FREX: 19.9964\n",
      "Num topics: 14, Coherence: 0.2487, Avg FREX: 19.9283\n"
     ]
    }
   ],
   "source": [
    "# Define the range of topics to evaluate\n",
    "# topic_range = range(5, 100, 10) #\n",
    "topic_range = range(3, 15, 1)\n",
    "\n",
    "# Evaluate the models over the range of topics\n",
    "coherence_scores, avg_frex_scores = evaluate_topic_range(docs, topic_range, top_n_tokens=20, passes=15)"
   ]
  },
  {
   "cell_type": "code",
   "execution_count": 68,
   "metadata": {},
   "outputs": [
    {
     "data": {
      "image/png": "[encoded data removed]",
      "text/plain": [
       "<Figure size 1200x600 with 2 Axes>"
      ]
     },
     "metadata": {},
     "output_type": "display_data"
    }
   ],
   "source": [
    "# Plot the evaluation metrics\n",
    "fig, ax1 = plt.subplots(figsize=(12, 6))\n",
    "\n",
    "# Plot coherence on the left y-axis\n",
    "color = '#2f54eb'\n",
    "ax1.set_xlabel('Number of Topics')\n",
    "ax1.set_ylabel('Coherence', color=color)\n",
    "ax1.plot(list(topic_range), coherence_scores, marker='o', color=color, label='Coherence')\n",
    "ax1.tick_params(axis='y', labelcolor=color)\n",
    "\n",
    "# Create a second y-axis for FREX scores\n",
    "ax2 = ax1.twinx()\n",
    "color = '#f5222d'\n",
    "ax2.set_ylabel('Exclusivity', color=color)\n",
    "ax2.plot(list(topic_range), avg_frex_scores, marker='x', color=color, label='Exclusivity')\n",
    "ax2.tick_params(axis='y', labelcolor=color)\n",
    "\n",
    "# Optionally, add a title and grid\n",
    "plt.title('Evaluation of Topic Models: Coherence & Exclusivity')\n",
    "plt.grid(True)\n",
    "plt.show()"
   ]
  },
  {
   "cell_type": "markdown",
   "metadata": {},
   "source": [
    "According to the figure, I choose the 8 as the number of topics as it has relative high coherence and exclusivity at the same time. (Still hard to decide, just heuristic choose a reasoning one) "
   ]
  },
  {
   "cell_type": "markdown",
   "metadata": {},
   "source": [
    "##### Interpreting Topics\n",
    "\n",
    "For each topic, I list top frequent words (high probability in that topic) and top FREX words (high frequency + exclusivity). This guides labeling.\n",
    "\n",
    "Final labels are assigned based on domain knowledge and the top keywords."
   ]
  },
  {
   "cell_type": "code",
   "execution_count": 69,
   "metadata": {},
   "outputs": [],
   "source": [
    "def train_lda_model(docs, num_topics=10, passes=10, random_state=42):\n",
    "    \"\"\"\n",
    "    Train an LDA model using gensim.\n",
    "    \"\"\"\n",
    "    dictionary = corpora.Dictionary(docs)\n",
    "    corpus = [dictionary.doc2bow(doc) for doc in docs]\n",
    "    lda_model = LdaModel(corpus=corpus,\n",
    "                         id2word=dictionary,\n",
    "                         num_topics=num_topics,\n",
    "                         random_state=random_state,\n",
    "                         passes=passes)\n",
    "    return lda_model, dictionary, corpus\n",
    "\n",
    "def get_topic_words(lda_model, dictionary, top_n_tokens=10, excl_weight=0.5):\n",
    "    \"\"\"\n",
    "    For each topic in the LDA model, compute and return both:\n",
    "      - The top frequent words (based on raw topic-term probabilities).\n",
    "      - The top FREX words (combining frequency and exclusivity).\n",
    "    \"\"\"\n",
    "    # Get topic-term probability matrix (each row sums to 1)\n",
    "    beta_mat = lda_model.get_topics()   # shape: (num_topics, vocabulary_size)\n",
    "    num_topics, V = beta_mat.shape\n",
    "\n",
    "    # Gensim dictionary: use id2token mapping for token lookup.\n",
    "    vocab = dictionary.id2token\n",
    "\n",
    "    # Compute normalized beta: for each term, what fraction of its total probability is in each topic.\n",
    "    col_sums = beta_mat.sum(axis=0)\n",
    "    beta_normed = beta_mat / col_sums  # shape: (num_topics, V)\n",
    "\n",
    "    # For each topic, compute the rank of each token by:\n",
    "    #   - Frequency: based on beta_mat (raw probability)\n",
    "    #   - Exclusivity: based on beta_normed (how exclusive is the token to the topic)\n",
    "    # Use rankdata so that the highest probability gets the highest rank.\n",
    "    freq_ranks = np.zeros_like(beta_mat)\n",
    "    excl_ranks = np.zeros_like(beta_normed)\n",
    "    for t in range(num_topics):\n",
    "        freq_ranks[t, :] = rankdata(beta_mat[t, :], method='average')\n",
    "        excl_ranks[t, :] = rankdata(beta_normed[t, :], method='average')\n",
    "    # Normalize ranks to (0, 1] by dividing by the vocabulary size V.\n",
    "    freq_ranks = freq_ranks / V\n",
    "    excl_ranks = excl_ranks / V\n",
    "\n",
    "    topic_results = {}\n",
    "    for t in range(num_topics):\n",
    "        # Top frequent words: sort tokens by raw probability in descending order.\n",
    "        top_freq_indices = np.argsort(beta_mat[t, :])[::-1][:top_n_tokens]\n",
    "        frequent_words = [(vocab[i], beta_mat[t, i]) for i in top_freq_indices]\n",
    "\n",
    "        # For each token, compute FREX score.\n",
    "        # Note: higher FREX indicates a better balance of frequency and exclusivity.\n",
    "        token_frex = 1.0 / ((excl_weight / excl_ranks[t, :]) + ((1 - excl_weight) / freq_ranks[t, :]))\n",
    "        # Sort tokens by FREX score (descending) and take the top ones.\n",
    "        top_frex_indices = np.argsort(token_frex)[::-1][:top_n_tokens]\n",
    "        frex_words = [(vocab[i], token_frex[i]) for i in top_frex_indices]\n",
    "\n",
    "        topic_results[t] = {\"frequent_words\": frequent_words, \"frex_words\": frex_words}\n",
    "    \n",
    "    return topic_results\n",
    "\n",
    "def print_topic_words(lda_model, dictionary, top_n_tokens=10, excl_weight=0.5):\n",
    "    \"\"\"\n",
    "    Print for each topic the top frequent words and the top FREX words.\n",
    "    \"\"\"\n",
    "    results = get_topic_words(lda_model, dictionary, top_n_tokens=top_n_tokens, excl_weight=excl_weight)\n",
    "\n",
    "    outlines = []\n",
    "    for t, data in results.items():\n",
    "        print(f\"Topic {t}:\")\n",
    "        # Construct a single line for frequent words\n",
    "        frequent_line = \"  Most frequent words: \" + \", \".join([\n",
    "            f\"{word}({score:.4f})\" for word, score in data[\"frequent_words\"]\n",
    "        ])\n",
    "        # Construct a single line for FREX words\n",
    "        frex_line = \"  Most FREX words: \" + \", \".join([\n",
    "            f\"{word}({score:.4f})\" for word, score in data[\"frex_words\"]\n",
    "        ])\n",
    "        print(frequent_line)  # Most frequent words line\n",
    "        print(frex_line)      # Most FREX words line\n",
    "        print()               # Spacing\n",
    "\n",
    "        outlines.extend([f\"Topic {t}:\", frequent_line, frex_line, \"\"])\n",
    "\n",
    "    with open('./topic_words.txt', 'w') as f:\n",
    "        f.write(\"\\n\".join(outlines))\n",
    "    print('Topic words saved to \"topic_words.txt')"
   ]
  },
  {
   "cell_type": "code",
   "execution_count": 70,
   "metadata": {},
   "outputs": [
    {
     "name": "stdout",
     "output_type": "stream",
     "text": [
      "Topic 0:\n",
      "  Most frequent words: dont(0.0296), yeah(0.0276), song(0.0207), add(0.0146), free(0.0134), listening(0.0134), stuff(0.0120), music(0.0117), funny(0.0113), haha(0.0113)\n",
      "  Most FREX words: yeah(1.0000), song(1.0000), add(1.0000), free(1.0000), listening(1.0000), stuff(1.0000), music(0.9999), funny(0.9999), aww(0.9999), vip(0.9999)\n",
      "\n",
      "Topic 1:\n",
      "  Most frequent words: great(0.0474), happy(0.0417), day(0.0217), birthday(0.0172), check(0.0126), today(0.0125), time(0.0113), house(0.0110), coming(0.0107), party(0.0102)\n",
      "  Most FREX words: great(1.0000), happy(1.0000), birthday(1.0000), check(1.0000), house(1.0000), coming(0.9999), party(0.9999), job(0.9999), sunday(0.9999), eating(0.9999)\n",
      "\n",
      "Topic 2:\n",
      "  Most frequent words: twitter(0.0412), haha(0.0364), tweet(0.0216), follower(0.0175), follow(0.0175), people(0.0142), dont(0.0140), pic(0.0135), ive(0.0108), phone(0.0097)\n",
      "  Most FREX words: twitter(1.0000), tweet(1.0000), follower(1.0000), follow(1.0000), pic(1.0000), phone(0.9999), picture(0.9999), fan(0.9999), rock(0.9999), post(0.9999)\n",
      "\n",
      "Topic 3:\n",
      "  Most frequent words: â(0.1111), ã(0.0810), laugh(0.0765), loud(0.0672), (0.0353), (0.0154), ¢(0.0146), (0.0145), finally(0.0110), (0.0102)\n",
      "  Most FREX words: â(1.0000), ã(1.0000), laugh(1.0000), loud(1.0000), (1.0000), (1.0000), ¢(1.0000), (0.9999), (0.9999), hahaha(0.9999)\n",
      "\n",
      "Topic 4:\n",
      "  Most frequent words: good(0.0762), day(0.0576), work(0.0304), morning(0.0276), ill(0.0259), time(0.0249), today(0.0233), night(0.0231), tomorrow(0.0214), hope(0.0189)\n",
      "  Most FREX words: work(1.0000), morning(1.0000), ill(1.0000), tomorrow(1.0000), bed(0.9999), sleep(0.9999), weekend(0.9999), ready(0.9999), long(0.9999), luck(0.9999)\n",
      "\n",
      "Topic 5:\n",
      "  Most frequent words: love(0.0282), friend(0.0273), lt(0.0174), movie(0.0172), good(0.0154), ya(0.0137), girl(0.0131), summer(0.0130), xx(0.0122), fun(0.0115)\n",
      "  Most FREX words: friend(1.0000), lt(1.0000), movie(1.0000), ya(1.0000), summer(1.0000), xx(0.9999), cute(0.9999), pay(0.9999), bit(0.9999), hear(0.9999)\n",
      "\n",
      "Topic 6:\n",
      "  Most frequent words: love(0.0712), watching(0.0200), nice(0.0200), amazing(0.0165), lot(0.0152), excited(0.0146), cool(0.0144), yay(0.0143), working(0.0125), game(0.0115)\n",
      "  Most FREX words: amazing(1.0000), lot(1.0000), excited(1.0000), working(1.0000), game(0.9999), dinner(0.9999), waiting(0.9999), eat(0.9999), friday(0.9999), win(0.9999)\n",
      "\n",
      "Topic 7:\n",
      "  Most frequent words: awesome(0.0355), hey(0.0325), sweet(0.0154), beautiful(0.0145), school(0.0128), sound(0.0101), talk(0.0100), album(0.0094), ahh(0.0091), thinking(0.0090)\n",
      "  Most FREX words: awesome(1.0000), hey(1.0000), sweet(1.0000), beautiful(1.0000), talk(1.0000), album(1.0000), ahh(0.9999), thinking(0.9999), dream(0.9999), totally(0.9999)\n",
      "\n",
      "Topic words saved to \"topic_words.txt\n"
     ]
    }
   ],
   "source": [
    "# Train a common LDA model with your chosen optimal number of topics (say, 5 topics)\n",
    "lda_model, dictionary, corpus = train_lda_model(docs, num_topics=8, passes=15)\n",
    "\n",
    "# Print the top frequent and FREX words for each topic.\n",
    "print_topic_words(lda_model, dictionary, top_n_tokens=10, excl_weight=0.5)"
   ]
  },
  {
   "cell_type": "markdown",
   "metadata": {},
   "source": [
    "##### Result of Topic Modeling\n",
    "\n",
    "|         |     Label     |                         Description                         | Example Words (Selected Most Popular Words) |\n",
    "|:-------:|:-------------:|:-----------------------------------------------------------:|:-------------------------------------------:|\n",
    "| Topic 0 |     Music     | Maybe focuses on sharing music and chill content            | yeah, song, free, listening, music, funny   |\n",
    "| Topic 1 |     Party     | Maybe focuses on parties and daily life                     | great, happy, birthday, house, party        |\n",
    "| Topic 2 |  Social Media | Maybe focuses on social media interaction                   | twitter, tweet, follower, pic, fan          |\n",
    "| Topic 3 |     Noise     | I prefer this topic is noise (failed identification)        | â, ã, laugh,loud,¢                          |\n",
    "| Topic 4 |   Daily Life  | Maybe focuses on daily life and well-being                  | work, morning, ill, tomorrow, luck          |\n",
    "| Topic 5 |  Friendships  | Maybe focuses on friendships                                | friend, movie, ya, summer, cute             |\n",
    "| Topic 6 | Entertainment | Maybe focuses on enthusiastic entertainment and food        | amazing, excited, working, game, dinner     |\n",
    "| Topic 7 |  Affirmations | Maybe mainly contains compliments and reflective expression | awesome, sweet, beautiful, talk, album      |\n",
    "\n",
    "First, despite noise in the data, topic modeling demonstrates an ability to categorize and identify noisy patterns effectively. \n",
    "\n",
    "Second, regarding topic sentiment, most topics lean toward positivity, with observable negative expressions primarily confined to the \"Daily Life\" category (though this topic still includes positive elements). Certain topics, such as \"Social Media Interaction,\" appear neutral or lack clear emotional labels. \n",
    "\n",
    "Overall, relying solely on these topic modeling results for sentiment analysis risks overestimating positivity, even though the dataset itself contains a higher proportion of negative expressions. This highlights a potential mismatch between topic-based interpretations and the actual emotional distribution in the data."
   ]
  },
  {
   "cell_type": "markdown",
   "metadata": {},
   "source": [
    "##### Mapping Topics to Sentiment\n",
    "\n",
    "After labeling each topic, we connect them to likely sentiments (positive, negative, or unknown) to approximate sentiment from topic membership.\n",
    "\n",
    "Documents are assigned a dominant topic via the highest topic probability."
   ]
  },
  {
   "cell_type": "code",
   "execution_count": 72,
   "metadata": {},
   "outputs": [],
   "source": [
    "# Use topics to predict sentiment\n",
    "\n",
    "# Assign dominant topic to each document\n",
    "def assign_dominant_topic(lda_model, corpus):\n",
    "    \"\"\"\n",
    "    Assigns a dominant topic to each document in the corpus based on the highest topic probability.\n",
    "    \"\"\"\n",
    "    dominant_topics = []\n",
    "    for doc in corpus:\n",
    "        topics = lda_model.get_document_topics(doc)\n",
    "        if topics:\n",
    "            dominant_topic = max(topics, key=lambda x: x[1])[0]\n",
    "            dominant_topics.append(dominant_topic)\n",
    "        else:\n",
    "            dominant_topics.append(None)\n",
    "    return dominant_topics"
   ]
  },
  {
   "cell_type": "code",
   "execution_count": null,
   "metadata": {},
   "outputs": [],
   "source": [
    "df_topic_modeling = test_corpus[['target','text']].copy()\n",
    "df_topic_modeling['target'] = df_topic_modeling['target'].replace({0: 'Negative', 4: 'Positive'})\n",
    "\n",
    "# Assign dominant topics to the test corpus\n",
    "dominant_topics = assign_dominant_topic(lda_model, corpus)\n",
    "\n",
    "df_topic_modeling['dominant_topic'] = dominant_topics\n",
    "# Label the dominant topics\n",
    "df_topic_modeling['dominant_topic'] = df_topic_modeling['dominant_topic'].replace(\n",
    "    {0: 'Music', 1: 'Party', 2: 'Social Media', 3: 'Noise', 4: 'Daily Life', 5: 'Friendship', 6: 'Entertainment', 7: 'Affirmations'}\n",
    "    )\n",
    "\n",
    "# Map the dominant topics to sentiment labels\n",
    "topic_sentiment_map = {\n",
    "    'Music': \"Positive\",\n",
    "    'Party': \"Positive\", \n",
    "    'Social Media': \"NAN\", \n",
    "    'Noise': \"Positive\", # I still consider this topic as \"Positive\" because \"laugh\", \"hahah\" are its keywords\n",
    "    'Daily Life': \"Positive\",\n",
    "    'Friendship': \"Positive\", \n",
    "    'Entertainment': \"Positive\", \n",
    "    'Affirmations': \"Positive\"\n",
    "}\n",
    "\n",
    "# Map the dominant topics to sentiment labels\n",
    "df_topic_modeling['predicted_sentiment'] = df_topic_modeling['dominant_topic'].map(topic_sentiment_map)"
   ]
  },
  {
   "cell_type": "code",
   "execution_count": null,
   "metadata": {},
   "outputs": [
    {
     "name": "stdout",
     "output_type": "stream",
     "text": [
      "Classification Report of Topic Modeling for sentiment analysis:\n",
      "{'None Probability': 0.12289320794932136, 'F1 Score without None/Neutral': 0.3343910826514882, 'F1 Score with None/Neutral': 0.3200061733438644}\n"
     ]
    }
   ],
   "source": [
    "# Results - Topic Modeling\n",
    "print(\"Classification Report of Topic Modeling for sentiment analysis:\")\n",
    "print(evaluate_with_nonresponse(df_topic_modeling, target_col='target', pred_col='predicted_sentiment', non_maker='NAN'))"
   ]
  },
  {
   "cell_type": "code",
   "execution_count": 82,
   "metadata": {},
   "outputs": [
    {
     "name": "stdout",
     "output_type": "stream",
     "text": [
      "Topic Music: Negative=0.4671, Positive=0.5329\n",
      "Topic Party: Negative=0.4743, Positive=0.5257\n",
      "Topic Social Media: Negative=0.5180, Positive=0.4820\n",
      "Topic Noise: Negative=0.4469, Positive=0.5531\n",
      "Topic Daily Life: Negative=0.5420, Positive=0.4580\n",
      "Topic Friendship: Negative=0.5165, Positive=0.4835\n",
      "Topic Entertainment: Negative=0.4621, Positive=0.5379\n",
      "Topic Affirmations: Negative=0.5145, Positive=0.4855\n"
     ]
    }
   ],
   "source": [
    "# The proportion of Positive and Negative under each topic\n",
    "for topic in topic_sentiment_map.keys():\n",
    "    topic_df = df_topic_modeling[df_topic_modeling['dominant_topic'] == topic]\n",
    "    # Calculate the proportions of Positive and Negative\n",
    "    counts = topic_df['target'].value_counts(normalize=True)\n",
    "    \n",
    "    # Safely retrieve each proportion (defaulting to 0 if not found)\n",
    "    neg_prop = counts.get('Negative', 0.0)\n",
    "    pos_prop = counts.get('Positive', 0.0)\n",
    "    \n",
    "    print(f\"Topic {topic}: Negative={neg_prop:.4f}, Positive={pos_prop:.4f}\")"
   ]
  },
  {
   "cell_type": "markdown",
   "metadata": {},
   "source": [
    "The proportion of Positive and Negative under each topic suggested that it is hard to identify the sentiment solely by topic modeling. (The proportions of positive and negative are quite balanced) "
   ]
  },
  {
   "cell_type": "markdown",
   "metadata": {},
   "source": [
    "### 7. Discussion\n",
    "\n",
    "Having already addressed the deployment processes and internal comparisons of each model or method in detail throughout earlier sections, I will now present a holistic comparative analysis of the methodologies as a whole. For each method, I choose the model with the best performance (on test dataset). However, per previous results of within-group comparison, there are no big differences between models within the group."
   ]
  },
  {
   "cell_type": "code",
   "execution_count": 83,
   "metadata": {},
   "outputs": [
    {
     "data": {
      "image/png": "[encoded data removed]",
      "text/plain": [
       "<Figure size 1200x600 with 1 Axes>"
      ]
     },
     "metadata": {},
     "output_type": "display_data"
    }
   ],
   "source": [
    "import matplotlib.pyplot as plt\n",
    "import numpy as np\n",
    "\n",
    "# Define methods and their respective metric values.\n",
    "methods = [\"Dictionary Method\", \"Supervised ML\", \"GPT\", \"Topic Modeling\"]\n",
    "\n",
    "# Metric values for each method.\n",
    "none_prob = [0.5742, 0, 0.02, 0.1229]\n",
    "f1_with = [0.4327, 0.7345, 0.7955, 0.3200]\n",
    "f1_without = [0.7265, 0.7345, 0.8039, 0.3344]\n",
    "\n",
    "# Set positions for groups and bar width.\n",
    "x = np.arange(len(methods))\n",
    "width = 0.25  # width of each bar\n",
    "\n",
    "fig, ax = plt.subplots(figsize=(12, 6))\n",
    "\n",
    "# Plot each metric as a group of bars with an offset.\n",
    "bars_none = ax.bar(x - width, none_prob, width, label=\"None Probability\", color=\"#bfbfbf\")\n",
    "bars_f1_with = ax.bar(x, f1_with, width, label=\"F1 Score Incl. None\", color=\"#13c2c2\")\n",
    "bars_f1_without = ax.bar(x + width, f1_without, width, label=\"F1 Score Excl. None\", color=\"#1677ff\")\n",
    "\n",
    "# Add labels and title.\n",
    "ax.set_ylabel(\"Score\")\n",
    "ax.set_title(\"Comparison of Methods: Sentiment Analysis Evaluation\")\n",
    "ax.set_xticks(x)\n",
    "ax.set_xticklabels(methods)\n",
    "ax.legend()\n",
    "\n",
    "# Function to annotate bars with their height.\n",
    "def autolabel(bars):\n",
    "    for bar in bars:\n",
    "        height = bar.get_height()\n",
    "        ax.annotate(f'{height:.3f}',\n",
    "                    xy=(bar.get_x() + bar.get_width()/2, height),\n",
    "                    xytext=(0, 3),  # 3 points vertical offset\n",
    "                    textcoords=\"offset points\",\n",
    "                    ha='center', va='bottom')\n",
    "\n",
    "# Annotate each set of bars.\n",
    "autolabel(bars_none)\n",
    "autolabel(bars_f1_with)\n",
    "autolabel(bars_f1_without)\n",
    "\n",
    "plt.tight_layout()\n",
    "plt.show()"
   ]
  },
  {
   "cell_type": "markdown",
   "metadata": {},
   "source": [
    "##### Performance & Flexibility\n",
    "Dictionary Methods:\n",
    "- Despite its high \"None/Neutral\" assignment rate (57.4%), it achieves a reasonable F1 score (72.6%) for non-neutral texts, indicating partial effectiveness in polarized sentiment detection and it is still one of the most valuable text analysis methods in social science. \n",
    "- Its performance plummets (F1 drop ~0.3, only observed in dictionary methods) when including neutral cases, primarily due to limited adaptability to informal social media language (e.g., slang, informal expression).\n",
    "- Enhancing the base dictionary (e.g., LIWC) with social media-specific lexicons (e.g., emoji sentiment mappings, abbreviations) and contextual rules could mitigate false neutrality assignments.\n",
    "- Retains importance in social science research due to high interpretability and suitability for hypothesis-driven analysis.\n",
    "\n",
    "Supervised Machine Learning:\n",
    "- Achieves moderate F1 (73.45%) with forces binary classification (ignoring neutrality), suggests its ability in text analysis.\n",
    "- This method is quite suitable for binary classification.\n",
    "\n",
    "GPT:\n",
    "- Dominates with the highest F1 (~80%) and minimal \"None\" assignments (2%), demonstrating robust generalization across contexts. Its \"plug-and-play\" flexibility (via prompt engineering) allows rapid adaptation to new domains (e.g., sarcasm detection) without retraining, though API costs scale with data volume.\n",
    "\n",
    "Topic Modeling:\n",
    "- Fails as a standalone sentiment tool (F1 ~33%) due to thematic-emotional decoupling. Topics (e.g., \"Social Media Interactions\") and sentiment are almost orthogonal dimensions, requiring hybrid approaches (e.g., topic-guided sentiment analysis) for meaningful insights.\n",
    "\n",
    "##### Deployment and Cost\n",
    "Dictionary Methods: \n",
    "- Fully transparent rules\n",
    "- Cost: Low computational needs but high manual effort to update lexicons for informal language.\n",
    "\n",
    "Supervised Machine Learning:\n",
    "- Limited to simpler models like logistic regression (in text analysis); neural networks are black-box\n",
    "- Cost: Requires labeled data and computational resources for training\n",
    "\n",
    "GPT:\n",
    "- Opaque decision-making; sensitive to prompts\n",
    "- Cost: API costs scale with usage (annotation for 1,000 rows ~ 2HKD and 18 mins); but no training needed\n",
    "\n",
    "Topic Modeling:\n",
    "- Thematic clusters are clear\n",
    "- No direct sentiment logic, actually, cannot control the logic or scale to identify topics\n",
    "- Cost: Unsupervised; minimal setup after parameter tuning\n",
    "\n",
    "\n",
    "##### Other Limitations\n",
    "Dictionary Methods: \n",
    "- Struggle with linguistic evolution (e.g., new slang) and context-dependent sentiments.\n",
    "\n",
    "GPT: \n",
    "- Potential Bias (e.g., analyze the emotion expression of minority).\n",
    "\n",
    "Topic Modeling: \n",
    "- Thematic clusters may not align with emotional labels (e.g., a \"Celebrations\" topic could mix both positive and negative tweets about holidays)."
   ]
  }
 ],
 "metadata": {
  "kernelspec": {
   "display_name": "Python 3",
   "language": "python",
   "name": "python3"
  },
  "language_info": {
   "codemirror_mode": {
    "name": "ipython",
    "version": 3
   },
   "file_extension": ".py",
   "mimetype": "text/x-python",
   "name": "python",
   "nbconvert_exporter": "python",
   "pygments_lexer": "ipython3",
   "version": "3.12.9"
  }
 },
 "nbformat": 4,
 "nbformat_minor": 2
}
