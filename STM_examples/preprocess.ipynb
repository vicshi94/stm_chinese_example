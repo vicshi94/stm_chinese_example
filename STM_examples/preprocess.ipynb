{
 "cells": [
  {
   "cell_type": "code",
   "execution_count": 38,
   "metadata": {},
   "outputs": [],
   "source": [
    "import pandas as pd\n",
    "import re\n",
    "import jieba\n",
    "from collections import Counter"
   ]
  },
  {
   "cell_type": "code",
   "execution_count": 39,
   "metadata": {},
   "outputs": [
    {
     "data": {
      "text/html": [
       "<div>\n",
       "<style scoped>\n",
       "    .dataframe tbody tr th:only-of-type {\n",
       "        vertical-align: middle;\n",
       "    }\n",
       "\n",
       "    .dataframe tbody tr th {\n",
       "        vertical-align: top;\n",
       "    }\n",
       "\n",
       "    .dataframe thead th {\n",
       "        text-align: right;\n",
       "    }\n",
       "</style>\n",
       "<table border=\"1\" class=\"dataframe\">\n",
       "  <thead>\n",
       "    <tr style=\"text-align: right;\">\n",
       "      <th></th>\n",
       "      <th>标题</th>\n",
       "      <th>日期</th>\n",
       "      <th>版次</th>\n",
       "      <th>内容</th>\n",
       "    </tr>\n",
       "  </thead>\n",
       "  <tbody>\n",
       "    <tr>\n",
       "      <th>0</th>\n",
       "      <td>国民党统治区  物价飞涨民不堪命  重庆机器工厂数百家倒闭</td>\n",
       "      <td>1946-05-20</td>\n",
       "      <td>第1版</td>\n",
       "      <td>专栏：\\n\\n　　国民党统治区\\n    物价飞涨民不堪命\\n    重庆机器工厂数百家倒闭...</td>\n",
       "    </tr>\n",
       "    <tr>\n",
       "      <th>1</th>\n",
       "      <td>执行民办公助方针后  太行小学获显著成绩。  真正做到群众自己办，领导上不自流。</td>\n",
       "      <td>1946-05-29</td>\n",
       "      <td>第2版</td>\n",
       "      <td>专栏：\\n\\n　　执行民办公助方针后\\n    太行小学获显著成绩。       \\n   ...</td>\n",
       "    </tr>\n",
       "    <tr>\n",
       "      <th>2</th>\n",
       "      <td>太行行署指示各专县  防备风雹组织抢收</td>\n",
       "      <td>1946-05-18</td>\n",
       "      <td>第2版</td>\n",
       "      <td>专栏：\\n\\n　　太行行署指示各专县\\n    防备风雹组织抢收\\n    【新华社晋冀鲁豫...</td>\n",
       "    </tr>\n",
       "    <tr>\n",
       "      <th>3</th>\n",
       "      <td>沁县阎军特务横行  殴劫我联络组人员  我已向东沁线小组提出抗议</td>\n",
       "      <td>1946-05-15</td>\n",
       "      <td>第1版</td>\n",
       "      <td>专栏：\\n\\n　　沁县阎军特务横行\\n    殴劫我联络组人员\\n    我已向东沁线小组提...</td>\n",
       "    </tr>\n",
       "    <tr>\n",
       "      <th>4</th>\n",
       "      <td>盟军总部竟然批准  币原捧吉田为首相  远东委员会举行会议</td>\n",
       "      <td>1946-05-19</td>\n",
       "      <td>第1版</td>\n",
       "      <td>专栏：\\n\\n　　盟军总部竟然批准\\n    币原捧吉田为首相\\n    远东委员会举行会议...</td>\n",
       "    </tr>\n",
       "  </tbody>\n",
       "</table>\n",
       "</div>"
      ],
      "text/plain": [
       "                                         标题          日期   版次  \\\n",
       "0             国民党统治区  物价飞涨民不堪命  重庆机器工厂数百家倒闭  1946-05-20  第1版   \n",
       "1  执行民办公助方针后  太行小学获显著成绩。  真正做到群众自己办，领导上不自流。  1946-05-29  第2版   \n",
       "2                       太行行署指示各专县  防备风雹组织抢收  1946-05-18  第2版   \n",
       "3          沁县阎军特务横行  殴劫我联络组人员  我已向东沁线小组提出抗议  1946-05-15  第1版   \n",
       "4             盟军总部竟然批准  币原捧吉田为首相  远东委员会举行会议  1946-05-19  第1版   \n",
       "\n",
       "                                                  内容  \n",
       "0  专栏：\\n\\n　　国民党统治区\\n    物价飞涨民不堪命\\n    重庆机器工厂数百家倒闭...  \n",
       "1  专栏：\\n\\n　　执行民办公助方针后\\n    太行小学获显著成绩。       \\n   ...  \n",
       "2  专栏：\\n\\n　　太行行署指示各专县\\n    防备风雹组织抢收\\n    【新华社晋冀鲁豫...  \n",
       "3  专栏：\\n\\n　　沁县阎军特务横行\\n    殴劫我联络组人员\\n    我已向东沁线小组提...  \n",
       "4  专栏：\\n\\n　　盟军总部竟然批准\\n    币原捧吉田为首相\\n    远东委员会举行会议...  "
      ]
     },
     "execution_count": 39,
     "metadata": {},
     "output_type": "execute_result"
    }
   ],
   "source": [
    "df = pd.read_csv('./未处理语料.csv', encoding='utf-8')\n",
    "df.head()"
   ]
  },
  {
   "cell_type": "code",
   "execution_count": 40,
   "metadata": {},
   "outputs": [],
   "source": [
    "def clean_chinese_text(text):\n",
    "    # 移除特殊字符和数字\n",
    "    text = re.sub(\"(\\\\d|\\\\W)+\", \" \", text)\n",
    "\n",
    "    # 分词\n",
    "    seg_list = jieba.cut(text, cut_all=False)\n",
    "\n",
    "    # 移除停用词\n",
    "    clean_seg_list = [word for word in seg_list if word not in stop_words]\n",
    "\n",
    "    return clean_seg_list\n",
    "\n",
    "# 查找最常见的词语的函数\n",
    "def get_most_frequent_words(segmented_texts, num_words=20):\n",
    "    counter = Counter()\n",
    "    for text in segmented_texts:\n",
    "        counter.update(text)\n",
    "    return counter.most_common(num_words)"
   ]
  },
  {
   "cell_type": "code",
   "execution_count": 44,
   "metadata": {},
   "outputs": [],
   "source": [
    "# 建议直接下载中文停用词表，然后再添加自定义的停用词\n",
    "# 这一步骤要重复几次，直到高频词语（比如前20）中没有无意义的词语为止\n",
    "\n",
    "# 停用词表，自行添加出现频率高但无意义的词语\n",
    "stop_words = set([\n",
    "    ' ', '的', '在', '了', '之', '与','为','是','有','等','并','已','和','人','我',\n",
    "    '他们','于','中','上','以','及','将','后','我们','他','不','都','被','而','说','也',\n",
    "    '又','着', '讯', '向', '一', '到', '由','就', '即', '来',\n",
    "    '专栏','新华社','电' # 同理，根据关键词搜索的语料，也应去除关键词本身\n",
    "    ])"
   ]
  },
  {
   "cell_type": "code",
   "execution_count": 45,
   "metadata": {},
   "outputs": [
    {
     "name": "stdout",
     "output_type": "stream",
     "text": [
      "['国民党', '人民', '民主', '群众', '代表', '政府', '军', '生产', '对', '组织', '解放区', '问题', '延安', '进行', '内战', '要求', '工作', '美国', '进攻', '从']\n"
     ]
    }
   ],
   "source": [
    "# 对 'Content' 列应用清洗和分词函数\n",
    "df['Segmented_Content'] = df['内容'].apply(clean_chinese_text)\n",
    "\n",
    "# 获取最常见的词语\n",
    "most_frequent_words = get_most_frequent_words(df['Segmented_Content'])\n",
    "\n",
    "# 显示最常见的词语\n",
    "print([word for word,freq in most_frequent_words])\n",
    "\n",
    "# 将分词重新组合成句子\n",
    "df['Segmented_Content'] = df['Segmented_Content'].apply(lambda x: ' '.join(x))"
   ]
  },
  {
   "cell_type": "code",
   "execution_count": 47,
   "metadata": {},
   "outputs": [
    {
     "data": {
      "text/plain": [
       "版次\n",
       "第2版    225\n",
       "第1版    207\n",
       "第3版     10\n",
       "第4版      5\n",
       "Name: count, dtype: int64"
      ]
     },
     "execution_count": 47,
     "metadata": {},
     "output_type": "execute_result"
    }
   ],
   "source": [
    "df['版次'].value_counts()"
   ]
  },
  {
   "cell_type": "code",
   "execution_count": 49,
   "metadata": {},
   "outputs": [
    {
     "data": {
      "text/html": [
       "<div>\n",
       "<style scoped>\n",
       "    .dataframe tbody tr th:only-of-type {\n",
       "        vertical-align: middle;\n",
       "    }\n",
       "\n",
       "    .dataframe tbody tr th {\n",
       "        vertical-align: top;\n",
       "    }\n",
       "\n",
       "    .dataframe thead th {\n",
       "        text-align: right;\n",
       "    }\n",
       "</style>\n",
       "<table border=\"1\" class=\"dataframe\">\n",
       "  <thead>\n",
       "    <tr style=\"text-align: right;\">\n",
       "      <th></th>\n",
       "      <th>标题</th>\n",
       "      <th>日期</th>\n",
       "      <th>版次</th>\n",
       "      <th>内容</th>\n",
       "      <th>Segmented_Content</th>\n",
       "    </tr>\n",
       "  </thead>\n",
       "  <tbody>\n",
       "    <tr>\n",
       "      <th>0</th>\n",
       "      <td>国民党统治区  物价飞涨民不堪命  重庆机器工厂数百家倒闭</td>\n",
       "      <td>1946-05-20</td>\n",
       "      <td>第1版</td>\n",
       "      <td>专栏：\\n\\n　　国民党统治区\\n    物价飞涨民不堪命\\n    重庆机器工厂数百家倒闭...</td>\n",
       "      <td>国民党 统治区 物价飞涨 民不堪命 重庆 机器 工厂 数百家 倒闭 延安 十七日 国民党 统...</td>\n",
       "    </tr>\n",
       "    <tr>\n",
       "      <th>1</th>\n",
       "      <td>执行民办公助方针后  太行小学获显著成绩。  真正做到群众自己办，领导上不自流。</td>\n",
       "      <td>1946-05-29</td>\n",
       "      <td>第2版</td>\n",
       "      <td>专栏：\\n\\n　　执行民办公助方针后\\n    太行小学获显著成绩。       \\n   ...</td>\n",
       "      <td>执行 民办公助 方针 太行 小学 获 显著成绩 真正 做到 群众 自己 办 领导 自流 本报...</td>\n",
       "    </tr>\n",
       "    <tr>\n",
       "      <th>2</th>\n",
       "      <td>太行行署指示各专县  防备风雹组织抢收</td>\n",
       "      <td>1946-05-18</td>\n",
       "      <td>第2版</td>\n",
       "      <td>专栏：\\n\\n　　太行行署指示各专县\\n    防备风雹组织抢收\\n    【新华社晋冀鲁豫...</td>\n",
       "      <td>太行 行署 指示 各 专县 防备 风雹 组织 抢收 晋冀鲁豫 总 分社 夏收 至 太行 行署...</td>\n",
       "    </tr>\n",
       "    <tr>\n",
       "      <th>3</th>\n",
       "      <td>沁县阎军特务横行  殴劫我联络组人员  我已向东沁线小组提出抗议</td>\n",
       "      <td>1946-05-15</td>\n",
       "      <td>第1版</td>\n",
       "      <td>专栏：\\n\\n　　沁县阎军特务横行\\n    殴劫我联络组人员\\n    我已向东沁线小组提...</td>\n",
       "      <td>沁县 阎军 特务 横行 殴劫 联络组 人员 向东 沁线 小组 提出抗议 长治 十日 白晋 线...</td>\n",
       "    </tr>\n",
       "    <tr>\n",
       "      <th>4</th>\n",
       "      <td>盟军总部竟然批准  币原捧吉田为首相  远东委员会举行会议</td>\n",
       "      <td>1946-05-19</td>\n",
       "      <td>第1版</td>\n",
       "      <td>专栏：\\n\\n　　盟军总部竟然批准\\n    币原捧吉田为首相\\n    远东委员会举行会议...</td>\n",
       "      <td>盟军 总部 竟然 批准 币原 捧 吉田为 首相 远东 委员会 举行 会议 延安 十六日 东京...</td>\n",
       "    </tr>\n",
       "  </tbody>\n",
       "</table>\n",
       "</div>"
      ],
      "text/plain": [
       "                                         标题          日期   版次  \\\n",
       "0             国民党统治区  物价飞涨民不堪命  重庆机器工厂数百家倒闭  1946-05-20  第1版   \n",
       "1  执行民办公助方针后  太行小学获显著成绩。  真正做到群众自己办，领导上不自流。  1946-05-29  第2版   \n",
       "2                       太行行署指示各专县  防备风雹组织抢收  1946-05-18  第2版   \n",
       "3          沁县阎军特务横行  殴劫我联络组人员  我已向东沁线小组提出抗议  1946-05-15  第1版   \n",
       "4             盟军总部竟然批准  币原捧吉田为首相  远东委员会举行会议  1946-05-19  第1版   \n",
       "\n",
       "                                                  内容  \\\n",
       "0  专栏：\\n\\n　　国民党统治区\\n    物价飞涨民不堪命\\n    重庆机器工厂数百家倒闭...   \n",
       "1  专栏：\\n\\n　　执行民办公助方针后\\n    太行小学获显著成绩。       \\n   ...   \n",
       "2  专栏：\\n\\n　　太行行署指示各专县\\n    防备风雹组织抢收\\n    【新华社晋冀鲁豫...   \n",
       "3  专栏：\\n\\n　　沁县阎军特务横行\\n    殴劫我联络组人员\\n    我已向东沁线小组提...   \n",
       "4  专栏：\\n\\n　　盟军总部竟然批准\\n    币原捧吉田为首相\\n    远东委员会举行会议...   \n",
       "\n",
       "                                   Segmented_Content  \n",
       "0  国民党 统治区 物价飞涨 民不堪命 重庆 机器 工厂 数百家 倒闭 延安 十七日 国民党 统...  \n",
       "1  执行 民办公助 方针 太行 小学 获 显著成绩 真正 做到 群众 自己 办 领导 自流 本报...  \n",
       "2  太行 行署 指示 各 专县 防备 风雹 组织 抢收 晋冀鲁豫 总 分社 夏收 至 太行 行署...  \n",
       "3  沁县 阎军 特务 横行 殴劫 联络组 人员 向东 沁线 小组 提出抗议 长治 十日 白晋 线...  \n",
       "4  盟军 总部 竟然 批准 币原 捧 吉田为 首相 远东 委员会 举行 会议 延安 十六日 东京...  "
      ]
     },
     "execution_count": 49,
     "metadata": {},
     "output_type": "execute_result"
    }
   ],
   "source": [
    "# 比较分词前后的内容\n",
    "df.head()"
   ]
  },
  {
   "cell_type": "code",
   "execution_count": null,
   "metadata": {},
   "outputs": [],
   "source": [
    "# 保存处理后的数据\n",
    "df[['版次','日期','Segmented_Content']].to_csv('./corpus_segmented.csv', index=True, encoding='utf-8')"
   ]
  }
 ],
 "metadata": {
  "kernelspec": {
   "display_name": "Python 3",
   "language": "python",
   "name": "python3"
  },
  "language_info": {
   "codemirror_mode": {
    "name": "ipython",
    "version": 3
   },
   "file_extension": ".py",
   "mimetype": "text/x-python",
   "name": "python",
   "nbconvert_exporter": "python",
   "pygments_lexer": "ipython3",
   "version": "3.12.0"
  }
 },
 "nbformat": 4,
 "nbformat_minor": 2
}
